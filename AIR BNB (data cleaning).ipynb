{
 "cells": [
  {
   "cell_type": "code",
   "execution_count": null,
   "metadata": {},
   "outputs": [],
   "source": [
    "\n"
   ]
  },
  {
   "cell_type": "markdown",
   "metadata": {},
   "source": [
    "# AIRBNB DATA CLEANING"
   ]
  },
  {
   "cell_type": "markdown",
   "metadata": {},
   "source": [
    "### About Data\n",
    "\n",
    "##### The data had two tables after cleaning and merging the data we have  11922 rows and 96 columns  and the data have 11 categorical features and 17 numerical features"
   ]
  },
  {
   "cell_type": "code",
   "execution_count": null,
   "metadata": {},
   "outputs": [],
   "source": []
  },
  {
   "cell_type": "code",
   "execution_count": 6,
   "metadata": {},
   "outputs": [
    {
     "data": {
      "text/plain": [
       "(11922, 96)"
      ]
     },
     "execution_count": 6,
     "metadata": {},
     "output_type": "execute_result"
    }
   ],
   "source": [
    "listing.shape"
   ]
  },
  {
   "cell_type": "code",
   "execution_count": null,
   "metadata": {},
   "outputs": [],
   "source": []
  },
  {
   "cell_type": "code",
   "execution_count": 2,
   "metadata": {},
   "outputs": [],
   "source": [
    "import pandas as pd\n",
    "import numpy as np\n",
    "import warnings\n",
    "warnings.filterwarnings(action=\"ignore\")\n",
    "import seaborn as sns\n",
    "import plotly.express as px\n",
    "from matplotlib import pyplot as plt"
   ]
  },
  {
   "cell_type": "code",
   "execution_count": 3,
   "metadata": {},
   "outputs": [],
   "source": [
    "#importing the data in jupyter \n",
    "listing=pd.read_csv(r'C:\\Users\\USER\\Desktop\\Airbnb\\listings.csv')\n",
    "df=listing"
   ]
  },
  {
   "cell_type": "code",
   "execution_count": 3,
   "metadata": {
    "scrolled": false
   },
   "outputs": [
    {
     "data": {
      "text/html": [
       "<div>\n",
       "<style scoped>\n",
       "    .dataframe tbody tr th:only-of-type {\n",
       "        vertical-align: middle;\n",
       "    }\n",
       "\n",
       "    .dataframe tbody tr th {\n",
       "        vertical-align: top;\n",
       "    }\n",
       "\n",
       "    .dataframe thead th {\n",
       "        text-align: right;\n",
       "    }\n",
       "</style>\n",
       "<table border=\"1\" class=\"dataframe\">\n",
       "  <thead>\n",
       "    <tr style=\"text-align: right;\">\n",
       "      <th></th>\n",
       "      <th>id</th>\n",
       "      <th>listing_url</th>\n",
       "      <th>scrape_id</th>\n",
       "      <th>last_scraped</th>\n",
       "      <th>name</th>\n",
       "      <th>summary</th>\n",
       "      <th>space</th>\n",
       "      <th>description</th>\n",
       "      <th>experiences_offered</th>\n",
       "      <th>neighborhood_overview</th>\n",
       "      <th>...</th>\n",
       "      <th>requires_license</th>\n",
       "      <th>license</th>\n",
       "      <th>jurisdiction_names</th>\n",
       "      <th>instant_bookable</th>\n",
       "      <th>is_business_travel_ready</th>\n",
       "      <th>cancellation_policy</th>\n",
       "      <th>require_guest_profile_picture</th>\n",
       "      <th>require_guest_phone_verification</th>\n",
       "      <th>calculated_host_listings_count</th>\n",
       "      <th>reviews_per_month</th>\n",
       "    </tr>\n",
       "  </thead>\n",
       "  <tbody>\n",
       "    <tr>\n",
       "      <th>0</th>\n",
       "      <td>6</td>\n",
       "      <td>https://www.airbnb.com/rooms/6</td>\n",
       "      <td>20181115100559</td>\n",
       "      <td>2018-11-15</td>\n",
       "      <td>Large Craftsmen w/ yard ~ Perfect for families</td>\n",
       "      <td>Our Beautiful Craftsmen house has all the mode...</td>\n",
       "      <td>We are located in the heart of North Park, the...</td>\n",
       "      <td>Our Beautiful Craftsmen house has all the mode...</td>\n",
       "      <td>none</td>\n",
       "      <td>We have the best Neighborhood in San Diego, in...</td>\n",
       "      <td>...</td>\n",
       "      <td>f</td>\n",
       "      <td>NaN</td>\n",
       "      <td>{\"SAN DIEGO\",\" SAN DIEGO TOURISM MARKETING DIS...</td>\n",
       "      <td>t</td>\n",
       "      <td>f</td>\n",
       "      <td>strict_14_with_grace_period</td>\n",
       "      <td>f</td>\n",
       "      <td>f</td>\n",
       "      <td>1</td>\n",
       "      <td>1.18</td>\n",
       "    </tr>\n",
       "    <tr>\n",
       "      <th>1</th>\n",
       "      <td>5570</td>\n",
       "      <td>https://www.airbnb.com/rooms/5570</td>\n",
       "      <td>20181115100559</td>\n",
       "      <td>2018-11-15</td>\n",
       "      <td>Ocean front condo on the sand</td>\n",
       "      <td>Missionbeachretreat.   Great Ocean Front Condo...</td>\n",
       "      <td>This charming two bedroom beachfront condomini...</td>\n",
       "      <td>Missionbeachretreat.   Great Ocean Front Condo...</td>\n",
       "      <td>none</td>\n",
       "      <td>While some may compare San Diego’s Mission Bea...</td>\n",
       "      <td>...</td>\n",
       "      <td>f</td>\n",
       "      <td>NaN</td>\n",
       "      <td>{\"SAN DIEGO\",\" SAN DIEGO TOURISM MARKETING DIS...</td>\n",
       "      <td>f</td>\n",
       "      <td>f</td>\n",
       "      <td>strict_14_with_grace_period</td>\n",
       "      <td>f</td>\n",
       "      <td>f</td>\n",
       "      <td>2</td>\n",
       "      <td>NaN</td>\n",
       "    </tr>\n",
       "    <tr>\n",
       "      <th>2</th>\n",
       "      <td>8095</td>\n",
       "      <td>https://www.airbnb.com/rooms/8095</td>\n",
       "      <td>20181115100559</td>\n",
       "      <td>2018-11-15</td>\n",
       "      <td>Sunset Cliffs Studio</td>\n",
       "      <td>NaN</td>\n",
       "      <td>Newly renovated, detached studio with private ...</td>\n",
       "      <td>Newly renovated, detached studio with private ...</td>\n",
       "      <td>none</td>\n",
       "      <td>proximity to ocean , walkability to ocean beac...</td>\n",
       "      <td>...</td>\n",
       "      <td>f</td>\n",
       "      <td>NaN</td>\n",
       "      <td>{\"SAN DIEGO\",\" SAN DIEGO TOURISM MARKETING DIS...</td>\n",
       "      <td>f</td>\n",
       "      <td>f</td>\n",
       "      <td>strict_14_with_grace_period</td>\n",
       "      <td>f</td>\n",
       "      <td>f</td>\n",
       "      <td>1</td>\n",
       "      <td>1.56</td>\n",
       "    </tr>\n",
       "  </tbody>\n",
       "</table>\n",
       "<p>3 rows × 96 columns</p>\n",
       "</div>"
      ],
      "text/plain": [
       "     id                        listing_url       scrape_id last_scraped  \\\n",
       "0     6     https://www.airbnb.com/rooms/6  20181115100559   2018-11-15   \n",
       "1  5570  https://www.airbnb.com/rooms/5570  20181115100559   2018-11-15   \n",
       "2  8095  https://www.airbnb.com/rooms/8095  20181115100559   2018-11-15   \n",
       "\n",
       "                                             name  \\\n",
       "0  Large Craftsmen w/ yard ~ Perfect for families   \n",
       "1                   Ocean front condo on the sand   \n",
       "2                            Sunset Cliffs Studio   \n",
       "\n",
       "                                             summary  \\\n",
       "0  Our Beautiful Craftsmen house has all the mode...   \n",
       "1  Missionbeachretreat.   Great Ocean Front Condo...   \n",
       "2                                                NaN   \n",
       "\n",
       "                                               space  \\\n",
       "0  We are located in the heart of North Park, the...   \n",
       "1  This charming two bedroom beachfront condomini...   \n",
       "2  Newly renovated, detached studio with private ...   \n",
       "\n",
       "                                         description experiences_offered  \\\n",
       "0  Our Beautiful Craftsmen house has all the mode...                none   \n",
       "1  Missionbeachretreat.   Great Ocean Front Condo...                none   \n",
       "2  Newly renovated, detached studio with private ...                none   \n",
       "\n",
       "                               neighborhood_overview  ... requires_license  \\\n",
       "0  We have the best Neighborhood in San Diego, in...  ...                f   \n",
       "1  While some may compare San Diego’s Mission Bea...  ...                f   \n",
       "2  proximity to ocean , walkability to ocean beac...  ...                f   \n",
       "\n",
       "  license                                 jurisdiction_names instant_bookable  \\\n",
       "0     NaN  {\"SAN DIEGO\",\" SAN DIEGO TOURISM MARKETING DIS...                t   \n",
       "1     NaN  {\"SAN DIEGO\",\" SAN DIEGO TOURISM MARKETING DIS...                f   \n",
       "2     NaN  {\"SAN DIEGO\",\" SAN DIEGO TOURISM MARKETING DIS...                f   \n",
       "\n",
       "  is_business_travel_ready          cancellation_policy  \\\n",
       "0                        f  strict_14_with_grace_period   \n",
       "1                        f  strict_14_with_grace_period   \n",
       "2                        f  strict_14_with_grace_period   \n",
       "\n",
       "   require_guest_profile_picture require_guest_phone_verification  \\\n",
       "0                              f                                f   \n",
       "1                              f                                f   \n",
       "2                              f                                f   \n",
       "\n",
       "   calculated_host_listings_count  reviews_per_month  \n",
       "0                               1               1.18  \n",
       "1                               2                NaN  \n",
       "2                               1               1.56  \n",
       "\n",
       "[3 rows x 96 columns]"
      ]
     },
     "execution_count": 3,
     "metadata": {},
     "output_type": "execute_result"
    }
   ],
   "source": [
    "df.head(3)"
   ]
  },
  {
   "cell_type": "code",
   "execution_count": 4,
   "metadata": {},
   "outputs": [
    {
     "data": {
      "text/plain": [
       "(11922, 96)"
      ]
     },
     "execution_count": 4,
     "metadata": {},
     "output_type": "execute_result"
    }
   ],
   "source": [
    "df.shape"
   ]
  },
  {
   "cell_type": "code",
   "execution_count": 5,
   "metadata": {},
   "outputs": [
    {
     "name": "stdout",
     "output_type": "stream",
     "text": [
      "<class 'pandas.core.frame.DataFrame'>\n",
      "RangeIndex: 11922 entries, 0 to 11921\n",
      "Data columns (total 96 columns):\n",
      " #   Column                            Non-Null Count  Dtype  \n",
      "---  ------                            --------------  -----  \n",
      " 0   id                                11922 non-null  int64  \n",
      " 1   listing_url                       11922 non-null  object \n",
      " 2   scrape_id                         11922 non-null  int64  \n",
      " 3   last_scraped                      11922 non-null  object \n",
      " 4   name                              11920 non-null  object \n",
      " 5   summary                           11509 non-null  object \n",
      " 6   space                             8762 non-null   object \n",
      " 7   description                       11769 non-null  object \n",
      " 8   experiences_offered               11922 non-null  object \n",
      " 9   neighborhood_overview             7593 non-null   object \n",
      " 10  notes                             6270 non-null   object \n",
      " 11  transit                           7080 non-null   object \n",
      " 12  access                            7556 non-null   object \n",
      " 13  interaction                       7321 non-null   object \n",
      " 14  house_rules                       8460 non-null   object \n",
      " 15  thumbnail_url                     0 non-null      float64\n",
      " 16  medium_url                        0 non-null      float64\n",
      " 17  picture_url                       11922 non-null  object \n",
      " 18  xl_picture_url                    0 non-null      float64\n",
      " 19  host_id                           11922 non-null  int64  \n",
      " 20  host_url                          11922 non-null  object \n",
      " 21  host_name                         11916 non-null  object \n",
      " 22  host_since                        11916 non-null  object \n",
      " 23  host_location                     11866 non-null  object \n",
      " 24  host_about                        7946 non-null   object \n",
      " 25  host_response_time                7909 non-null   object \n",
      " 26  host_response_rate                7909 non-null   object \n",
      " 27  host_acceptance_rate              0 non-null      float64\n",
      " 28  host_is_superhost                 11916 non-null  object \n",
      " 29  host_thumbnail_url                11916 non-null  object \n",
      " 30  host_picture_url                  11916 non-null  object \n",
      " 31  host_neighbourhood                9718 non-null   object \n",
      " 32  host_listings_count               11916 non-null  float64\n",
      " 33  host_total_listings_count         11916 non-null  float64\n",
      " 34  host_verifications                11922 non-null  object \n",
      " 35  host_has_profile_pic              11916 non-null  object \n",
      " 36  host_identity_verified            11916 non-null  object \n",
      " 37  street                            11922 non-null  object \n",
      " 38  neighbourhood                     11076 non-null  object \n",
      " 39  neighbourhood_cleansed            11922 non-null  object \n",
      " 40  neighbourhood_group_cleansed      0 non-null      float64\n",
      " 41  city                              11922 non-null  object \n",
      " 42  state                             11918 non-null  object \n",
      " 43  zipcode                           11755 non-null  float64\n",
      " 44  market                            11900 non-null  object \n",
      " 45  smart_location                    11922 non-null  object \n",
      " 46  country_code                      11922 non-null  object \n",
      " 47  country                           11922 non-null  object \n",
      " 48  latitude                          11922 non-null  float64\n",
      " 49  longitude                         11922 non-null  float64\n",
      " 50  is_location_exact                 11922 non-null  object \n",
      " 51  property_type                     11922 non-null  object \n",
      " 52  room_type                         11922 non-null  object \n",
      " 53  accommodates                      11922 non-null  int64  \n",
      " 54  bathrooms                         11918 non-null  float64\n",
      " 55  bedrooms                          11917 non-null  float64\n",
      " 56  beds                              11914 non-null  float64\n",
      " 57  bed_type                          11922 non-null  object \n",
      " 58  amenities                         11922 non-null  object \n",
      " 59  square_feet                       171 non-null    float64\n",
      " 60  price                             11922 non-null  object \n",
      " 61  weekly_price                      1247 non-null   object \n",
      " 62  monthly_price                     1043 non-null   object \n",
      " 63  security_deposit                  8987 non-null   object \n",
      " 64  cleaning_fee                      10231 non-null  object \n",
      " 65  guests_included                   11922 non-null  int64  \n",
      " 66  extra_people                      11922 non-null  object \n",
      " 67  minimum_nights                    11922 non-null  int64  \n",
      " 68  maximum_nights                    11922 non-null  int64  \n",
      " 69  calendar_updated                  11922 non-null  object \n",
      " 70  has_availability                  11922 non-null  object \n",
      " 71  availability_30                   11922 non-null  int64  \n",
      " 72  availability_60                   11922 non-null  int64  \n",
      " 73  availability_90                   11922 non-null  int64  \n",
      " 74  availability_365                  11922 non-null  int64  \n",
      " 75  calendar_last_scraped             11922 non-null  object \n",
      " 76  number_of_reviews                 11922 non-null  int64  \n",
      " 77  first_review                      9759 non-null   object \n",
      " 78  last_review                       9762 non-null   object \n",
      " 79  review_scores_rating              9629 non-null   float64\n",
      " 80  review_scores_accuracy            9623 non-null   float64\n",
      " 81  review_scores_cleanliness         9627 non-null   float64\n",
      " 82  review_scores_checkin             9612 non-null   float64\n",
      " 83  review_scores_communication       9621 non-null   float64\n",
      " 84  review_scores_location            9609 non-null   float64\n",
      " 85  review_scores_value               9607 non-null   float64\n",
      " 86  requires_license                  11922 non-null  object \n",
      " 87  license                           48 non-null     float64\n",
      " 88  jurisdiction_names                11415 non-null  object \n",
      " 89  instant_bookable                  11922 non-null  object \n",
      " 90  is_business_travel_ready          11922 non-null  object \n",
      " 91  cancellation_policy               11922 non-null  object \n",
      " 92  require_guest_profile_picture     11922 non-null  object \n",
      " 93  require_guest_phone_verification  11922 non-null  object \n",
      " 94  calculated_host_listings_count    11922 non-null  int64  \n",
      " 95  reviews_per_month                 9759 non-null   float64\n",
      "dtypes: float64(23), int64(13), object(60)\n",
      "memory usage: 8.7+ MB\n"
     ]
    }
   ],
   "source": [
    "df.info()"
   ]
  },
  {
   "cell_type": "code",
   "execution_count": 6,
   "metadata": {},
   "outputs": [
    {
     "data": {
      "text/plain": [
       "Index(['id', 'listing_url', 'scrape_id', 'last_scraped', 'name', 'summary',\n",
       "       'space', 'description', 'experiences_offered', 'neighborhood_overview',\n",
       "       'notes', 'transit', 'access', 'interaction', 'house_rules',\n",
       "       'thumbnail_url', 'medium_url', 'picture_url', 'xl_picture_url',\n",
       "       'host_id', 'host_url', 'host_name', 'host_since', 'host_location',\n",
       "       'host_about', 'host_response_time', 'host_response_rate',\n",
       "       'host_acceptance_rate', 'host_is_superhost', 'host_thumbnail_url',\n",
       "       'host_picture_url', 'host_neighbourhood', 'host_listings_count',\n",
       "       'host_total_listings_count', 'host_verifications',\n",
       "       'host_has_profile_pic', 'host_identity_verified', 'street',\n",
       "       'neighbourhood', 'neighbourhood_cleansed',\n",
       "       'neighbourhood_group_cleansed', 'city', 'state', 'zipcode', 'market',\n",
       "       'smart_location', 'country_code', 'country', 'latitude', 'longitude',\n",
       "       'is_location_exact', 'property_type', 'room_type', 'accommodates',\n",
       "       'bathrooms', 'bedrooms', 'beds', 'bed_type', 'amenities', 'square_feet',\n",
       "       'price', 'weekly_price', 'monthly_price', 'security_deposit',\n",
       "       'cleaning_fee', 'guests_included', 'extra_people', 'minimum_nights',\n",
       "       'maximum_nights', 'calendar_updated', 'has_availability',\n",
       "       'availability_30', 'availability_60', 'availability_90',\n",
       "       'availability_365', 'calendar_last_scraped', 'number_of_reviews',\n",
       "       'first_review', 'last_review', 'review_scores_rating',\n",
       "       'review_scores_accuracy', 'review_scores_cleanliness',\n",
       "       'review_scores_checkin', 'review_scores_communication',\n",
       "       'review_scores_location', 'review_scores_value', 'requires_license',\n",
       "       'license', 'jurisdiction_names', 'instant_bookable',\n",
       "       'is_business_travel_ready', 'cancellation_policy',\n",
       "       'require_guest_profile_picture', 'require_guest_phone_verification',\n",
       "       'calculated_host_listings_count', 'reviews_per_month'],\n",
       "      dtype='object')"
      ]
     },
     "execution_count": 6,
     "metadata": {},
     "output_type": "execute_result"
    }
   ],
   "source": [
    "df.columns"
   ]
  },
  {
   "cell_type": "code",
   "execution_count": 7,
   "metadata": {},
   "outputs": [],
   "source": [
    "#Let's select the columns which we need for further analysis\n",
    "\n",
    "selected_columns =['id','name','host_id', 'host_name', \n",
    "      'host_is_superhost','neighbourhood_cleansed','city', 'state', \n",
    "      'country', 'latitude', 'longitude',\n",
    "      'property_type', 'room_type', 'accommodates',\n",
    "      'bathrooms', 'bedrooms', 'beds', 'amenities',\n",
    "      'price', 'weekly_price', 'monthly_price','maximum_nights','minimum_nights',\n",
    "      'cleaning_fee', 'number_of_reviews', 'reviews_per_month']\n",
    "\n",
    "df_new=df[selected_columns]"
   ]
  },
  {
   "cell_type": "markdown",
   "metadata": {},
   "source": [
    "# Handling Missing, Improper Format "
   ]
  },
  {
   "cell_type": "code",
   "execution_count": 8,
   "metadata": {},
   "outputs": [
    {
     "data": {
      "text/plain": [
       "id                            0\n",
       "name                          2\n",
       "host_id                       0\n",
       "host_name                     6\n",
       "host_is_superhost             6\n",
       "neighbourhood_cleansed        0\n",
       "city                          0\n",
       "state                         4\n",
       "country                       0\n",
       "latitude                      0\n",
       "longitude                     0\n",
       "property_type                 0\n",
       "room_type                     0\n",
       "accommodates                  0\n",
       "bathrooms                     4\n",
       "bedrooms                      5\n",
       "beds                          8\n",
       "amenities                     0\n",
       "price                         0\n",
       "weekly_price              10675\n",
       "monthly_price             10879\n",
       "maximum_nights                0\n",
       "minimum_nights                0\n",
       "cleaning_fee               1691\n",
       "number_of_reviews             0\n",
       "reviews_per_month          2163\n",
       "dtype: int64"
      ]
     },
     "execution_count": 8,
     "metadata": {},
     "output_type": "execute_result"
    }
   ],
   "source": [
    "#lets us check the missing values\n",
    "df_new.isnull().sum()"
   ]
  },
  {
   "cell_type": "code",
   "execution_count": 9,
   "metadata": {},
   "outputs": [
    {
     "data": {
      "text/html": [
       "<div>\n",
       "<style scoped>\n",
       "    .dataframe tbody tr th:only-of-type {\n",
       "        vertical-align: middle;\n",
       "    }\n",
       "\n",
       "    .dataframe tbody tr th {\n",
       "        vertical-align: top;\n",
       "    }\n",
       "\n",
       "    .dataframe thead th {\n",
       "        text-align: right;\n",
       "    }\n",
       "</style>\n",
       "<table border=\"1\" class=\"dataframe\">\n",
       "  <thead>\n",
       "    <tr style=\"text-align: right;\">\n",
       "      <th></th>\n",
       "      <th>id</th>\n",
       "      <th>name</th>\n",
       "      <th>host_id</th>\n",
       "      <th>host_name</th>\n",
       "      <th>host_is_superhost</th>\n",
       "      <th>neighbourhood_cleansed</th>\n",
       "      <th>city</th>\n",
       "      <th>state</th>\n",
       "      <th>country</th>\n",
       "      <th>latitude</th>\n",
       "      <th>...</th>\n",
       "      <th>beds</th>\n",
       "      <th>amenities</th>\n",
       "      <th>price</th>\n",
       "      <th>weekly_price</th>\n",
       "      <th>monthly_price</th>\n",
       "      <th>maximum_nights</th>\n",
       "      <th>minimum_nights</th>\n",
       "      <th>cleaning_fee</th>\n",
       "      <th>number_of_reviews</th>\n",
       "      <th>reviews_per_month</th>\n",
       "    </tr>\n",
       "  </thead>\n",
       "  <tbody>\n",
       "    <tr>\n",
       "      <th>0</th>\n",
       "      <td>6</td>\n",
       "      <td>Large Craftsmen w/ yard ~ Perfect for families</td>\n",
       "      <td>29</td>\n",
       "      <td>Sara</td>\n",
       "      <td>t</td>\n",
       "      <td>North Hills</td>\n",
       "      <td>San Diego</td>\n",
       "      <td>CA</td>\n",
       "      <td>United States</td>\n",
       "      <td>32.753993</td>\n",
       "      <td>...</td>\n",
       "      <td>4.0</td>\n",
       "      <td>{TV,Internet,Wifi,\"Air conditioning\",Kitchen,\"...</td>\n",
       "      <td>$295.00</td>\n",
       "      <td>NaN</td>\n",
       "      <td>NaN</td>\n",
       "      <td>30</td>\n",
       "      <td>2</td>\n",
       "      <td>$85.00</td>\n",
       "      <td>149</td>\n",
       "      <td>1.18</td>\n",
       "    </tr>\n",
       "    <tr>\n",
       "      <th>1</th>\n",
       "      <td>5570</td>\n",
       "      <td>Ocean front condo on the sand</td>\n",
       "      <td>8435</td>\n",
       "      <td>Jef Karchin'S MISSIONBEACHRETREAT</td>\n",
       "      <td>f</td>\n",
       "      <td>Mission Bay</td>\n",
       "      <td>San Diego</td>\n",
       "      <td>CA</td>\n",
       "      <td>United States</td>\n",
       "      <td>32.784304</td>\n",
       "      <td>...</td>\n",
       "      <td>4.0</td>\n",
       "      <td>{TV,\"Cable TV\",Internet,Wifi,Kitchen,\"Free par...</td>\n",
       "      <td>$2,050.00</td>\n",
       "      <td>NaN</td>\n",
       "      <td>NaN</td>\n",
       "      <td>365</td>\n",
       "      <td>3</td>\n",
       "      <td>$150.00</td>\n",
       "      <td>0</td>\n",
       "      <td>NaN</td>\n",
       "    </tr>\n",
       "  </tbody>\n",
       "</table>\n",
       "<p>2 rows × 26 columns</p>\n",
       "</div>"
      ],
      "text/plain": [
       "     id                                            name  host_id  \\\n",
       "0     6  Large Craftsmen w/ yard ~ Perfect for families       29   \n",
       "1  5570                   Ocean front condo on the sand     8435   \n",
       "\n",
       "                           host_name host_is_superhost neighbourhood_cleansed  \\\n",
       "0                               Sara                 t            North Hills   \n",
       "1  Jef Karchin'S MISSIONBEACHRETREAT                 f            Mission Bay   \n",
       "\n",
       "        city state        country   latitude  ...  beds  \\\n",
       "0  San Diego    CA  United States  32.753993  ...   4.0   \n",
       "1  San Diego    CA  United States  32.784304  ...   4.0   \n",
       "\n",
       "                                           amenities      price  weekly_price  \\\n",
       "0  {TV,Internet,Wifi,\"Air conditioning\",Kitchen,\"...    $295.00           NaN   \n",
       "1  {TV,\"Cable TV\",Internet,Wifi,Kitchen,\"Free par...  $2,050.00           NaN   \n",
       "\n",
       "   monthly_price  maximum_nights  minimum_nights cleaning_fee  \\\n",
       "0            NaN              30               2       $85.00   \n",
       "1            NaN             365               3      $150.00   \n",
       "\n",
       "  number_of_reviews reviews_per_month  \n",
       "0               149              1.18  \n",
       "1                 0               NaN  \n",
       "\n",
       "[2 rows x 26 columns]"
      ]
     },
     "execution_count": 9,
     "metadata": {},
     "output_type": "execute_result"
    }
   ],
   "source": [
    "df_new.head(2)"
   ]
  },
  {
   "cell_type": "code",
   "execution_count": 10,
   "metadata": {},
   "outputs": [
    {
     "data": {
      "image/png": "[encoded data removed]",
      "text/plain": [
       "<Figure size 2000x1000 with 2 Axes>"
      ]
     },
     "metadata": {},
     "output_type": "display_data"
    }
   ],
   "source": [
    "#lets plot a heatmap to check the missing values\n",
    "plt.figure(figsize=(20,10))\n",
    "sns.heatmap(df_new.isnull(),cmap='YlGnBu')\n",
    "plt.show()"
   ]
  },
  {
   "cell_type": "code",
   "execution_count": 11,
   "metadata": {},
   "outputs": [
    {
     "data": {
      "text/plain": [
       "<bound method NDFrame._add_numeric_operations.<locals>.max of 0          $295.00\n",
       "1        $2,050.00\n",
       "2           $84.00\n",
       "3           $69.00\n",
       "4          $160.00\n",
       "           ...    \n",
       "11917       $70.00\n",
       "11918      $150.00\n",
       "11919       $32.00\n",
       "11920       $32.00\n",
       "11921       $55.00\n",
       "Name: price, Length: 11922, dtype: object>"
      ]
     },
     "execution_count": 11,
     "metadata": {},
     "output_type": "execute_result"
    }
   ],
   "source": [
    "#le\n",
    "df_new['price'].max"
   ]
  },
  {
   "cell_type": "code",
   "execution_count": 12,
   "metadata": {},
   "outputs": [
    {
     "data": {
      "text/html": [
       "<div>\n",
       "<style scoped>\n",
       "    .dataframe tbody tr th:only-of-type {\n",
       "        vertical-align: middle;\n",
       "    }\n",
       "\n",
       "    .dataframe tbody tr th {\n",
       "        vertical-align: top;\n",
       "    }\n",
       "\n",
       "    .dataframe thead th {\n",
       "        text-align: right;\n",
       "    }\n",
       "</style>\n",
       "<table border=\"1\" class=\"dataframe\">\n",
       "  <thead>\n",
       "    <tr style=\"text-align: right;\">\n",
       "      <th></th>\n",
       "      <th>price</th>\n",
       "      <th>weekly_price</th>\n",
       "      <th>monthly_price</th>\n",
       "      <th>cleaning_fee</th>\n",
       "    </tr>\n",
       "  </thead>\n",
       "  <tbody>\n",
       "    <tr>\n",
       "      <th>0</th>\n",
       "      <td>$295.00</td>\n",
       "      <td>NaN</td>\n",
       "      <td>NaN</td>\n",
       "      <td>$85.00</td>\n",
       "    </tr>\n",
       "    <tr>\n",
       "      <th>1</th>\n",
       "      <td>$2,050.00</td>\n",
       "      <td>NaN</td>\n",
       "      <td>NaN</td>\n",
       "      <td>$150.00</td>\n",
       "    </tr>\n",
       "    <tr>\n",
       "      <th>2</th>\n",
       "      <td>$84.00</td>\n",
       "      <td>NaN</td>\n",
       "      <td>NaN</td>\n",
       "      <td>$40.00</td>\n",
       "    </tr>\n",
       "    <tr>\n",
       "      <th>3</th>\n",
       "      <td>$69.00</td>\n",
       "      <td>$450.00</td>\n",
       "      <td>NaN</td>\n",
       "      <td>$25.00</td>\n",
       "    </tr>\n",
       "    <tr>\n",
       "      <th>4</th>\n",
       "      <td>$160.00</td>\n",
       "      <td>$1,060.00</td>\n",
       "      <td>NaN</td>\n",
       "      <td>$35.00</td>\n",
       "    </tr>\n",
       "    <tr>\n",
       "      <th>...</th>\n",
       "      <td>...</td>\n",
       "      <td>...</td>\n",
       "      <td>...</td>\n",
       "      <td>...</td>\n",
       "    </tr>\n",
       "    <tr>\n",
       "      <th>11917</th>\n",
       "      <td>$70.00</td>\n",
       "      <td>NaN</td>\n",
       "      <td>NaN</td>\n",
       "      <td>NaN</td>\n",
       "    </tr>\n",
       "    <tr>\n",
       "      <th>11918</th>\n",
       "      <td>$150.00</td>\n",
       "      <td>NaN</td>\n",
       "      <td>NaN</td>\n",
       "      <td>$50.00</td>\n",
       "    </tr>\n",
       "    <tr>\n",
       "      <th>11919</th>\n",
       "      <td>$32.00</td>\n",
       "      <td>NaN</td>\n",
       "      <td>NaN</td>\n",
       "      <td>$75.00</td>\n",
       "    </tr>\n",
       "    <tr>\n",
       "      <th>11920</th>\n",
       "      <td>$32.00</td>\n",
       "      <td>NaN</td>\n",
       "      <td>NaN</td>\n",
       "      <td>$65.00</td>\n",
       "    </tr>\n",
       "    <tr>\n",
       "      <th>11921</th>\n",
       "      <td>$55.00</td>\n",
       "      <td>NaN</td>\n",
       "      <td>NaN</td>\n",
       "      <td>NaN</td>\n",
       "    </tr>\n",
       "  </tbody>\n",
       "</table>\n",
       "<p>11922 rows × 4 columns</p>\n",
       "</div>"
      ],
      "text/plain": [
       "           price weekly_price monthly_price cleaning_fee\n",
       "0        $295.00          NaN           NaN       $85.00\n",
       "1      $2,050.00          NaN           NaN      $150.00\n",
       "2         $84.00          NaN           NaN       $40.00\n",
       "3         $69.00      $450.00           NaN       $25.00\n",
       "4        $160.00    $1,060.00           NaN       $35.00\n",
       "...          ...          ...           ...          ...\n",
       "11917     $70.00          NaN           NaN          NaN\n",
       "11918    $150.00          NaN           NaN       $50.00\n",
       "11919     $32.00          NaN           NaN       $75.00\n",
       "11920     $32.00          NaN           NaN       $65.00\n",
       "11921     $55.00          NaN           NaN          NaN\n",
       "\n",
       "[11922 rows x 4 columns]"
      ]
     },
     "execution_count": 12,
     "metadata": {},
     "output_type": "execute_result"
    }
   ],
   "source": [
    "#Lets check our currency tables first and then we will format it\n",
    "currency=['price','weekly_price','monthly_price','cleaning_fee']\n",
    "df_new[currency] "
   ]
  },
  {
   "cell_type": "markdown",
   "metadata": {},
   "source": [
    "##### ^^^^As we can see there are some puncations, symbols and Nan values are present. Now lets clean and transform the data and convert it to an integer"
   ]
  },
  {
   "cell_type": "code",
   "execution_count": 13,
   "metadata": {},
   "outputs": [],
   "source": [
    "#lets clean the data in one shot \n",
    "\n",
    "for i in currency:\n",
    "    df_new[i]=df_new[i].str.replace('$','')\n",
    "    df_new[i]=df_new[i].str.replace(',','')\n",
    "    df_new[i]=df_new[i].astype(float)\n",
    "    df_new[i].fillna(0,inplace=True)\n",
    "    df_new[i]=df_new[i].astype(int)\n",
    "    "
   ]
  },
  {
   "cell_type": "code",
   "execution_count": 14,
   "metadata": {},
   "outputs": [
    {
     "data": {
      "text/html": [
       "<div>\n",
       "<style scoped>\n",
       "    .dataframe tbody tr th:only-of-type {\n",
       "        vertical-align: middle;\n",
       "    }\n",
       "\n",
       "    .dataframe tbody tr th {\n",
       "        vertical-align: top;\n",
       "    }\n",
       "\n",
       "    .dataframe thead th {\n",
       "        text-align: right;\n",
       "    }\n",
       "</style>\n",
       "<table border=\"1\" class=\"dataframe\">\n",
       "  <thead>\n",
       "    <tr style=\"text-align: right;\">\n",
       "      <th></th>\n",
       "      <th>price</th>\n",
       "      <th>weekly_price</th>\n",
       "      <th>monthly_price</th>\n",
       "      <th>cleaning_fee</th>\n",
       "    </tr>\n",
       "  </thead>\n",
       "  <tbody>\n",
       "    <tr>\n",
       "      <th>0</th>\n",
       "      <td>295</td>\n",
       "      <td>0</td>\n",
       "      <td>0</td>\n",
       "      <td>85</td>\n",
       "    </tr>\n",
       "    <tr>\n",
       "      <th>1</th>\n",
       "      <td>2050</td>\n",
       "      <td>0</td>\n",
       "      <td>0</td>\n",
       "      <td>150</td>\n",
       "    </tr>\n",
       "    <tr>\n",
       "      <th>2</th>\n",
       "      <td>84</td>\n",
       "      <td>0</td>\n",
       "      <td>0</td>\n",
       "      <td>40</td>\n",
       "    </tr>\n",
       "    <tr>\n",
       "      <th>3</th>\n",
       "      <td>69</td>\n",
       "      <td>450</td>\n",
       "      <td>0</td>\n",
       "      <td>25</td>\n",
       "    </tr>\n",
       "    <tr>\n",
       "      <th>4</th>\n",
       "      <td>160</td>\n",
       "      <td>1060</td>\n",
       "      <td>0</td>\n",
       "      <td>35</td>\n",
       "    </tr>\n",
       "    <tr>\n",
       "      <th>...</th>\n",
       "      <td>...</td>\n",
       "      <td>...</td>\n",
       "      <td>...</td>\n",
       "      <td>...</td>\n",
       "    </tr>\n",
       "    <tr>\n",
       "      <th>11917</th>\n",
       "      <td>70</td>\n",
       "      <td>0</td>\n",
       "      <td>0</td>\n",
       "      <td>0</td>\n",
       "    </tr>\n",
       "    <tr>\n",
       "      <th>11918</th>\n",
       "      <td>150</td>\n",
       "      <td>0</td>\n",
       "      <td>0</td>\n",
       "      <td>50</td>\n",
       "    </tr>\n",
       "    <tr>\n",
       "      <th>11919</th>\n",
       "      <td>32</td>\n",
       "      <td>0</td>\n",
       "      <td>0</td>\n",
       "      <td>75</td>\n",
       "    </tr>\n",
       "    <tr>\n",
       "      <th>11920</th>\n",
       "      <td>32</td>\n",
       "      <td>0</td>\n",
       "      <td>0</td>\n",
       "      <td>65</td>\n",
       "    </tr>\n",
       "    <tr>\n",
       "      <th>11921</th>\n",
       "      <td>55</td>\n",
       "      <td>0</td>\n",
       "      <td>0</td>\n",
       "      <td>0</td>\n",
       "    </tr>\n",
       "  </tbody>\n",
       "</table>\n",
       "<p>11922 rows × 4 columns</p>\n",
       "</div>"
      ],
      "text/plain": [
       "       price  weekly_price  monthly_price  cleaning_fee\n",
       "0        295             0              0            85\n",
       "1       2050             0              0           150\n",
       "2         84             0              0            40\n",
       "3         69           450              0            25\n",
       "4        160          1060              0            35\n",
       "...      ...           ...            ...           ...\n",
       "11917     70             0              0             0\n",
       "11918    150             0              0            50\n",
       "11919     32             0              0            75\n",
       "11920     32             0              0            65\n",
       "11921     55             0              0             0\n",
       "\n",
       "[11922 rows x 4 columns]"
      ]
     },
     "execution_count": 14,
     "metadata": {},
     "output_type": "execute_result"
    }
   ],
   "source": [
    "#currency=['price','weekly_price','monthly_price','cleaning_fee']\n",
    "df_new[currency] "
   ]
  },
  {
   "cell_type": "code",
   "execution_count": 15,
   "metadata": {},
   "outputs": [
    {
     "data": {
      "text/html": [
       "<div>\n",
       "<style scoped>\n",
       "    .dataframe tbody tr th:only-of-type {\n",
       "        vertical-align: middle;\n",
       "    }\n",
       "\n",
       "    .dataframe tbody tr th {\n",
       "        vertical-align: top;\n",
       "    }\n",
       "\n",
       "    .dataframe thead th {\n",
       "        text-align: right;\n",
       "    }\n",
       "</style>\n",
       "<table border=\"1\" class=\"dataframe\">\n",
       "  <thead>\n",
       "    <tr style=\"text-align: right;\">\n",
       "      <th></th>\n",
       "      <th>id</th>\n",
       "      <th>name</th>\n",
       "      <th>host_id</th>\n",
       "      <th>host_name</th>\n",
       "      <th>host_is_superhost</th>\n",
       "      <th>neighbourhood_cleansed</th>\n",
       "      <th>city</th>\n",
       "      <th>state</th>\n",
       "      <th>country</th>\n",
       "      <th>latitude</th>\n",
       "      <th>...</th>\n",
       "      <th>beds</th>\n",
       "      <th>amenities</th>\n",
       "      <th>price</th>\n",
       "      <th>weekly_price</th>\n",
       "      <th>monthly_price</th>\n",
       "      <th>maximum_nights</th>\n",
       "      <th>minimum_nights</th>\n",
       "      <th>cleaning_fee</th>\n",
       "      <th>number_of_reviews</th>\n",
       "      <th>reviews_per_month</th>\n",
       "    </tr>\n",
       "  </thead>\n",
       "  <tbody>\n",
       "    <tr>\n",
       "      <th>0</th>\n",
       "      <td>6</td>\n",
       "      <td>Large Craftsmen w/ yard ~ Perfect for families</td>\n",
       "      <td>29</td>\n",
       "      <td>Sara</td>\n",
       "      <td>t</td>\n",
       "      <td>North Hills</td>\n",
       "      <td>San Diego</td>\n",
       "      <td>CA</td>\n",
       "      <td>United States</td>\n",
       "      <td>32.753993</td>\n",
       "      <td>...</td>\n",
       "      <td>4.0</td>\n",
       "      <td>{TV,Internet,Wifi,\"Air conditioning\",Kitchen,\"...</td>\n",
       "      <td>295</td>\n",
       "      <td>0</td>\n",
       "      <td>0</td>\n",
       "      <td>30</td>\n",
       "      <td>2</td>\n",
       "      <td>85</td>\n",
       "      <td>149</td>\n",
       "      <td>1.18</td>\n",
       "    </tr>\n",
       "    <tr>\n",
       "      <th>1</th>\n",
       "      <td>5570</td>\n",
       "      <td>Ocean front condo on the sand</td>\n",
       "      <td>8435</td>\n",
       "      <td>Jef Karchin'S MISSIONBEACHRETREAT</td>\n",
       "      <td>f</td>\n",
       "      <td>Mission Bay</td>\n",
       "      <td>San Diego</td>\n",
       "      <td>CA</td>\n",
       "      <td>United States</td>\n",
       "      <td>32.784304</td>\n",
       "      <td>...</td>\n",
       "      <td>4.0</td>\n",
       "      <td>{TV,\"Cable TV\",Internet,Wifi,Kitchen,\"Free par...</td>\n",
       "      <td>2050</td>\n",
       "      <td>0</td>\n",
       "      <td>0</td>\n",
       "      <td>365</td>\n",
       "      <td>3</td>\n",
       "      <td>150</td>\n",
       "      <td>0</td>\n",
       "      <td>NaN</td>\n",
       "    </tr>\n",
       "    <tr>\n",
       "      <th>2</th>\n",
       "      <td>8095</td>\n",
       "      <td>Sunset Cliffs Studio</td>\n",
       "      <td>270</td>\n",
       "      <td>Marin</td>\n",
       "      <td>f</td>\n",
       "      <td>Ocean Beach</td>\n",
       "      <td>San Diego</td>\n",
       "      <td>CA</td>\n",
       "      <td>United States</td>\n",
       "      <td>32.735170</td>\n",
       "      <td>...</td>\n",
       "      <td>1.0</td>\n",
       "      <td>{Internet,Wifi,Kitchen,\"Free parking on premis...</td>\n",
       "      <td>84</td>\n",
       "      <td>0</td>\n",
       "      <td>0</td>\n",
       "      <td>14</td>\n",
       "      <td>2</td>\n",
       "      <td>40</td>\n",
       "      <td>178</td>\n",
       "      <td>1.56</td>\n",
       "    </tr>\n",
       "  </tbody>\n",
       "</table>\n",
       "<p>3 rows × 26 columns</p>\n",
       "</div>"
      ],
      "text/plain": [
       "     id                                            name  host_id  \\\n",
       "0     6  Large Craftsmen w/ yard ~ Perfect for families       29   \n",
       "1  5570                   Ocean front condo on the sand     8435   \n",
       "2  8095                            Sunset Cliffs Studio      270   \n",
       "\n",
       "                           host_name host_is_superhost neighbourhood_cleansed  \\\n",
       "0                               Sara                 t            North Hills   \n",
       "1  Jef Karchin'S MISSIONBEACHRETREAT                 f            Mission Bay   \n",
       "2                              Marin                 f            Ocean Beach   \n",
       "\n",
       "        city state        country   latitude  ...  beds  \\\n",
       "0  San Diego    CA  United States  32.753993  ...   4.0   \n",
       "1  San Diego    CA  United States  32.784304  ...   4.0   \n",
       "2  San Diego    CA  United States  32.735170  ...   1.0   \n",
       "\n",
       "                                           amenities price  weekly_price  \\\n",
       "0  {TV,Internet,Wifi,\"Air conditioning\",Kitchen,\"...   295             0   \n",
       "1  {TV,\"Cable TV\",Internet,Wifi,Kitchen,\"Free par...  2050             0   \n",
       "2  {Internet,Wifi,Kitchen,\"Free parking on premis...    84             0   \n",
       "\n",
       "   monthly_price  maximum_nights  minimum_nights cleaning_fee  \\\n",
       "0              0              30               2           85   \n",
       "1              0             365               3          150   \n",
       "2              0              14               2           40   \n",
       "\n",
       "   number_of_reviews  reviews_per_month  \n",
       "0                149               1.18  \n",
       "1                  0                NaN  \n",
       "2                178               1.56  \n",
       "\n",
       "[3 rows x 26 columns]"
      ]
     },
     "execution_count": 15,
     "metadata": {},
     "output_type": "execute_result"
    }
   ],
   "source": [
    "df_new.head(3)"
   ]
  },
  {
   "cell_type": "code",
   "execution_count": 16,
   "metadata": {},
   "outputs": [
    {
     "data": {
      "text/plain": [
       "id                           0\n",
       "name                         2\n",
       "host_id                      0\n",
       "host_name                    6\n",
       "host_is_superhost            6\n",
       "neighbourhood_cleansed       0\n",
       "city                         0\n",
       "state                        4\n",
       "country                      0\n",
       "latitude                     0\n",
       "longitude                    0\n",
       "property_type                0\n",
       "room_type                    0\n",
       "accommodates                 0\n",
       "bathrooms                    4\n",
       "bedrooms                     5\n",
       "beds                         8\n",
       "amenities                    0\n",
       "price                        0\n",
       "weekly_price                 0\n",
       "monthly_price                0\n",
       "maximum_nights               0\n",
       "minimum_nights               0\n",
       "cleaning_fee                 0\n",
       "number_of_reviews            0\n",
       "reviews_per_month         2163\n",
       "dtype: int64"
      ]
     },
     "execution_count": 16,
     "metadata": {},
     "output_type": "execute_result"
    }
   ],
   "source": [
    "df_new.isnull().sum()"
   ]
  },
  {
   "cell_type": "code",
   "execution_count": 17,
   "metadata": {},
   "outputs": [],
   "source": [
    "#lets remove the NAN values from rest features\n",
    "df_new['bathrooms'].fillna(0,inplace=True)\n",
    "df_new['bedrooms'].fillna(0,inplace=True)\n",
    "df_new['beds'].fillna(0,inplace=True)\n",
    "df_new['reviews_per_month'].fillna(0,inplace=True)"
   ]
  },
  {
   "cell_type": "code",
   "execution_count": 18,
   "metadata": {},
   "outputs": [],
   "source": [
    "#t=true & f=false\n",
    "df_new['host_is_superhost'].fillna('f', inplace=True) "
   ]
  },
  {
   "cell_type": "code",
   "execution_count": 19,
   "metadata": {},
   "outputs": [
    {
     "data": {
      "image/png": "[encoded data removed]",
      "text/plain": [
       "<Figure size 700x500 with 1 Axes>"
      ]
     },
     "metadata": {},
     "output_type": "display_data"
    }
   ],
   "source": [
    "#lets plot a heatmap to check the missing values\n",
    "plt.figure(figsize=(7,5))\n",
    "sns.heatmap(df_new.isnull(),cmap='YlGnBu',cbar=False,yticklabels=False)\n",
    "plt.show()"
   ]
  },
  {
   "cell_type": "markdown",
   "metadata": {},
   "source": [
    "##### ^^^ Loks clean"
   ]
  },
  {
   "cell_type": "code",
   "execution_count": 20,
   "metadata": {},
   "outputs": [
    {
     "data": {
      "text/plain": [
       "array(['San Diego', 'La Jolla', 'La Jolla ', 'Del Mar', 'Solana Beach',\n",
       "       'San Diego ', 'Chula Vista', 'Oceanside', 'University heights',\n",
       "       'Ocean Beach', 'la jolla', 'Mission Beach', 'San diego',\n",
       "       'La jolla', 'Lemon Grove', 'Ocean Beach, San Diego', 'LA JOLLA',\n",
       "       'Coronado', 'Escondido', 'Chula Vista ', 'La Jolla, San Diego',\n",
       "       'Alpine', 'La Mesa', 'SAN DIEGO', 'Del Mar Highlands ',\n",
       "       'San Diego, CA, United States', 'San Diego, California, US',\n",
       "       'سان دييغو', 'Pacific Beach', 'Chula Vista,', ' La Jolla',\n",
       "       'La Jolla Shores', 'Mission Bay', 'Bonita', 'Newport Beach',\n",
       "       'Santee', 'National City', 'Gas lamp San Diego', 'Pacific Beach ',\n",
       "       'San DIego', 'CA', 'Chula Vista (Eastlake)', 'SanDiego',\n",
       "       'Spring Valley', 'Tijuana', 'Sandiego', 'Imperial Beach'],\n",
       "      dtype=object)"
      ]
     },
     "execution_count": 20,
     "metadata": {},
     "output_type": "execute_result"
    }
   ],
   "source": [
    "#Now lets check format of categorical values \n",
    "df_new['city'].unique()"
   ]
  },
  {
   "cell_type": "markdown",
   "metadata": {},
   "source": [
    "###### ^^^There are duplicate values in city  lets clean it\n"
   ]
  },
  {
   "cell_type": "code",
   "execution_count": 21,
   "metadata": {},
   "outputs": [],
   "source": [
    "df_new.city=[i.title().strip() for i in df_new['city']]"
   ]
  },
  {
   "cell_type": "code",
   "execution_count": 22,
   "metadata": {},
   "outputs": [
    {
     "data": {
      "text/plain": [
       "array(['San Diego', 'La Jolla', 'Del Mar', 'Solana Beach', 'Chula Vista',\n",
       "       'Oceanside', 'University Heights', 'Ocean Beach', 'Mission Beach',\n",
       "       'Lemon Grove', 'Ocean Beach, San Diego', 'Coronado', 'Escondido',\n",
       "       'La Jolla, San Diego', 'Alpine', 'La Mesa', 'Del Mar Highlands',\n",
       "       'San Diego, Ca, United States', 'San Diego, California, Us',\n",
       "       'سان دييغو', 'Pacific Beach', 'Chula Vista,', 'La Jolla Shores',\n",
       "       'Mission Bay', 'Bonita', 'Newport Beach', 'Santee',\n",
       "       'National City', 'Gas Lamp San Diego', 'Ca',\n",
       "       'Chula Vista (Eastlake)', 'Sandiego', 'Spring Valley', 'Tijuana',\n",
       "       'Imperial Beach'], dtype=object)"
      ]
     },
     "execution_count": 22,
     "metadata": {},
     "output_type": "execute_result"
    }
   ],
   "source": [
    "df_new['city'].unique()"
   ]
  },
  {
   "cell_type": "code",
   "execution_count": 23,
   "metadata": {},
   "outputs": [],
   "source": [
    "#still there are duplicate values in city let replace them\n",
    "city_replacement = {\n",
    "    'Ocean Beach, San Diego' : 'San Diego',\n",
    "    'La Jolla, San Diego' : 'La Jolla',\n",
    "    'San Diego, Ca, United States' : 'San Diego',\n",
    "    'San Diego, California, Us' : 'San Diego',\n",
    "    'سان دييغو' : 'San Diego',\n",
    "    'La Jolla Shores' : 'San Diego',\n",
    "    'Gas Lamp San Diego' : 'San Diego',\n",
    "    'Ca' : 'CA',\n",
    "    'Chula Vista (Eastlake)' : 'Chula Vista',\n",
    "    'Chula Vista,' : 'Chula Vista',\n",
    "    'Sandiego' : 'San Diego',\n",
    "    'Del Mar Highlands' : 'Del Mar'\n",
    "}\n",
    "\n",
    "df_new['city'].replace(city_replacement, inplace = True)"
   ]
  },
  {
   "cell_type": "code",
   "execution_count": 24,
   "metadata": {},
   "outputs": [
    {
     "data": {
      "text/plain": [
       "array(['San Diego', 'La Jolla', 'Del Mar', 'Solana Beach', 'Chula Vista',\n",
       "       'Oceanside', 'University Heights', 'Ocean Beach', 'Mission Beach',\n",
       "       'Lemon Grove', 'Coronado', 'Escondido', 'Alpine', 'La Mesa',\n",
       "       'Pacific Beach', 'Mission Bay', 'Bonita', 'Newport Beach',\n",
       "       'Santee', 'National City', 'CA', 'Spring Valley', 'Tijuana',\n",
       "       'Imperial Beach'], dtype=object)"
      ]
     },
     "execution_count": 24,
     "metadata": {},
     "output_type": "execute_result"
    }
   ],
   "source": [
    "df_new['city'].unique()"
   ]
  },
  {
   "cell_type": "code",
   "execution_count": 25,
   "metadata": {},
   "outputs": [
    {
     "data": {
      "text/plain": [
       "24"
      ]
     },
     "execution_count": 25,
     "metadata": {},
     "output_type": "execute_result"
    }
   ],
   "source": [
    "df_new.city.nunique()"
   ]
  },
  {
   "cell_type": "code",
   "execution_count": 26,
   "metadata": {},
   "outputs": [
    {
     "data": {
      "text/plain": [
       "array(['North Hills', 'Mission Bay', 'Ocean Beach', 'Loma Portal',\n",
       "       'La Jolla', 'Pacific Beach', 'College Area', 'Midtown',\n",
       "       'North City', 'Rancho Penasquitos', 'Grant Hill', 'Bay Park',\n",
       "       'West University Heights', 'Wooded Area', 'Mira Mesa', 'Bird Land',\n",
       "       'Carmel Valley', 'Talmadge', 'Moreno Mission', 'Balboa Park',\n",
       "       'Kearny Mesa', 'North Clairemont', 'University City',\n",
       "       'Torrey Pines', 'Little Italy', 'East Village', 'Mountain View',\n",
       "       'Linda Vista', 'Old Town', 'Park West', 'Darnall', 'Scripps Ranch',\n",
       "       'South Park', 'Kensington', 'Lake Murray', 'Del Mar Heights',\n",
       "       'Clairemont Mesa', 'Rancho Bernadino', 'Cortez Hill',\n",
       "       'Normal Heights', 'Midtown District', 'City Heights East',\n",
       "       'Marina', 'La Jolla Village', 'Allied Gardens', 'Memorial',\n",
       "       'Grantville', 'Roseville', 'Eastlake Vistas', 'City Heights West',\n",
       "       'Encanto', 'Gaslamp Quarter', 'Bay Ho', 'Tijuana River Valley',\n",
       "       'Otay Ranch', 'Webster', 'Core', 'Sorrento Valley', 'San Carlos',\n",
       "       'Sabre Springs', 'Northwest', 'El Cerritos', 'Del Cerro',\n",
       "       'Serra Mesa', 'Gateway', 'Paradise Hills', 'Oak Park', 'Columbia',\n",
       "       'Mission Valley', 'Rolando', 'Rancho Del Rey', 'Bario Logan',\n",
       "       'Lynwood Hills', 'Palm City', 'Carmel Mountain', 'San Ysidro',\n",
       "       'Jomacha-Lomita', 'Bay Terrace', 'Chollas View', 'Mount Hope',\n",
       "       'Rolling Hills Ranch', 'East Lake', 'Tierrasanta', 'Sky Line',\n",
       "       'Valencia Park', 'Estlake Greens', 'Southwest', 'Eastlake Trails',\n",
       "       'Horton Plaza', 'Southcrest', 'Paseo Ranchoero', 'Yosemite Dr',\n",
       "       'Amphitheater And Water Park', 'Nestor', 'Bonita Long Canyon',\n",
       "       'Sunbow', 'Alta Vista', 'Terra Nova', 'Egger Highlands',\n",
       "       'Eastlake Woods', 'Lincoln Park', 'Thomy Locust Pl',\n",
       "       'Emerald Hills'], dtype=object)"
      ]
     },
     "execution_count": 26,
     "metadata": {},
     "output_type": "execute_result"
    }
   ],
   "source": [
    "df_new.neighbourhood_cleansed.unique()"
   ]
  },
  {
   "cell_type": "code",
   "execution_count": 27,
   "metadata": {},
   "outputs": [
    {
     "data": {
      "text/plain": [
       "id                        0\n",
       "name                      2\n",
       "host_id                   0\n",
       "host_name                 6\n",
       "host_is_superhost         0\n",
       "neighbourhood_cleansed    0\n",
       "city                      0\n",
       "state                     4\n",
       "country                   0\n",
       "latitude                  0\n",
       "longitude                 0\n",
       "property_type             0\n",
       "room_type                 0\n",
       "accommodates              0\n",
       "bathrooms                 0\n",
       "bedrooms                  0\n",
       "beds                      0\n",
       "amenities                 0\n",
       "price                     0\n",
       "weekly_price              0\n",
       "monthly_price             0\n",
       "maximum_nights            0\n",
       "minimum_nights            0\n",
       "cleaning_fee              0\n",
       "number_of_reviews         0\n",
       "reviews_per_month         0\n",
       "dtype: int64"
      ]
     },
     "execution_count": 27,
     "metadata": {},
     "output_type": "execute_result"
    }
   ],
   "source": [
    "df_new.isnull().sum()"
   ]
  },
  {
   "cell_type": "code",
   "execution_count": 28,
   "metadata": {},
   "outputs": [
    {
     "data": {
      "text/plain": [
       "array(['CA', 'Ca', nan, 'Baja California', 'B.C.'], dtype=object)"
      ]
     },
     "execution_count": 28,
     "metadata": {},
     "output_type": "execute_result"
    }
   ],
   "source": [
    "#lets check the state column\n",
    "df_new.state.unique()"
   ]
  },
  {
   "cell_type": "code",
   "execution_count": 29,
   "metadata": {},
   "outputs": [
    {
     "data": {
      "text/plain": [
       "array(['CA', nan, 'Baja California'], dtype=object)"
      ]
     },
     "execution_count": 29,
     "metadata": {},
     "output_type": "execute_result"
    }
   ],
   "source": [
    "#lets replace the values\n",
    "state_replacement={'Ca':'CA',\n",
    "                  'B.C.':'Baja California'}\n",
    "\n",
    "df_new['state'].replace(state_replacement,inplace=True)\n",
    "df_new.state.unique()"
   ]
  },
  {
   "cell_type": "code",
   "execution_count": 30,
   "metadata": {},
   "outputs": [
    {
     "data": {
      "text/plain": [
       "CA                 11910\n",
       "Baja California        8\n",
       "Name: state, dtype: int64"
      ]
     },
     "execution_count": 30,
     "metadata": {},
     "output_type": "execute_result"
    }
   ],
   "source": [
    "df_new.state.value_counts()"
   ]
  },
  {
   "cell_type": "code",
   "execution_count": 31,
   "metadata": {},
   "outputs": [],
   "source": [
    "df_new.fillna('CA',inplace=True)"
   ]
  },
  {
   "cell_type": "code",
   "execution_count": 32,
   "metadata": {},
   "outputs": [
    {
     "data": {
      "text/plain": [
       "'{TV,\"Cable TV\",Internet,Wifi,Kitchen,\"Free parking on premises\",Elevator,Heating,\"Family/kid friendly\",Washer,Dryer,\"Smoke detector\",Essentials,\"Hair dryer\",Iron,\"Laptop friendly workspace\",Microwave,\"Coffee maker\",Refrigerator,Dishwasher,\"Dishes and silverware\",\"Cooking basics\",Oven,Stove,\"BBQ grill\",\"Patio or balcony\",\"Long term stays allowed\",Waterfront,Beachfront}'"
      ]
     },
     "execution_count": 32,
     "metadata": {},
     "output_type": "execute_result"
    }
   ],
   "source": [
    "#Lets check the amenities \n",
    "df_new.amenities[1]"
   ]
  },
  {
   "cell_type": "markdown",
   "metadata": {},
   "source": [
    "##### ^We need to strip all those unwanted brackets and quotes"
   ]
  },
  {
   "cell_type": "code",
   "execution_count": 33,
   "metadata": {},
   "outputs": [
    {
     "data": {
      "text/plain": [
       "'{TV,Internet,Wifi,\"Air conditioning\",Kitchen,\"Free parking on premises\",\"Pets allowed\",\"Free street parking\",Heating,\"Family/kid friendly\",Washer,Dryer,\"Smoke detector\",\"Carbon monoxide detector\",\"First aid kit\",\"Fire extinguisher\",Essentials,Shampoo,\"24-hour check-in\",Hangers,\"Hair dryer\",Iron,\"Laptop friendly workspace\",\"Baby monitor\",\"Outlet covers\",Bathtub,\"Changing table\",\"High chair\",\"Children’s books and toys\",\"Babysitter recommendations\",Crib,\"Children’s dinnerware\",\"Hot water\",\"Luggage dropoff allowed\",Other}'"
      ]
     },
     "execution_count": 33,
     "metadata": {},
     "output_type": "execute_result"
    }
   ],
   "source": [
    "asd=df_new['amenities'][0]\n",
    "asd"
   ]
  },
  {
   "cell_type": "code",
   "execution_count": 34,
   "metadata": {},
   "outputs": [
    {
     "data": {
      "text/plain": [
       "'tv,internet,wifi,air conditioning,kitchen,free parking on premises,pets allowed,free street parking,heating,family/kid friendly,washer,dryer,smoke detector,carbon monoxide detector,first aid kit,fire extinguisher,essentials,shampoo,24-hour check-in,hangers,hair dryer,iron,laptop friendly workspace,baby monitor,outlet covers,bathtub,changing table,high chair,children’s books and toys,babysitter recommendations,crib,children’s dinnerware,hot water,luggage dropoff allowed,other'"
      ]
     },
     "execution_count": 34,
     "metadata": {},
     "output_type": "execute_result"
    }
   ],
   "source": [
    "asd.strip('{}').replace('\"','').lower()\n",
    "#Looks good"
   ]
  },
  {
   "cell_type": "code",
   "execution_count": 35,
   "metadata": {},
   "outputs": [
    {
     "data": {
      "text/plain": [
       "0        {TV,Internet,Wifi,\"Air conditioning\",Kitchen,\"...\n",
       "1        {TV,\"Cable TV\",Internet,Wifi,Kitchen,\"Free par...\n",
       "2        {Internet,Wifi,Kitchen,\"Free parking on premis...\n",
       "3        {Internet,Wifi,Pool,Kitchen,\"Pets live on this...\n",
       "4        {TV,Internet,Wifi,Kitchen,\"Free parking on pre...\n",
       "                               ...                        \n",
       "11917    {TV,\"Cable TV\",Internet,Wifi,\"Air conditioning...\n",
       "11918    {TV,Wifi,\"Air conditioning\",Kitchen,\"Free park...\n",
       "11919    {TV,Wifi,\"Air conditioning\",Pool,Kitchen,\"Free...\n",
       "11920    {TV,Wifi,\"Air conditioning\",Pool,Kitchen,\"Free...\n",
       "11921    {TV,Wifi,Kitchen,\"Pets allowed\",Heating,\"Smoke...\n",
       "Name: amenities, Length: 11922, dtype: object"
      ]
     },
     "execution_count": 35,
     "metadata": {},
     "output_type": "execute_result"
    }
   ],
   "source": [
    "df_new.amenities"
   ]
  },
  {
   "cell_type": "code",
   "execution_count": 36,
   "metadata": {},
   "outputs": [],
   "source": [
    "df_new['amenities']=[i.strip('{}').replace('\"','').lower() for i in df_new['amenities']]"
   ]
  },
  {
   "cell_type": "code",
   "execution_count": 37,
   "metadata": {},
   "outputs": [
    {
     "data": {
      "text/plain": [
       "0        tv,internet,wifi,air conditioning,kitchen,free...\n",
       "1        tv,cable tv,internet,wifi,kitchen,free parking...\n",
       "2        internet,wifi,kitchen,free parking on premises...\n",
       "3        internet,wifi,pool,kitchen,pets live on this p...\n",
       "4        tv,internet,wifi,kitchen,free parking on premi...\n",
       "                               ...                        \n",
       "11917    tv,cable tv,internet,wifi,air conditioning,poo...\n",
       "11918    tv,wifi,air conditioning,kitchen,free parking ...\n",
       "11919    tv,wifi,air conditioning,pool,kitchen,free par...\n",
       "11920    tv,wifi,air conditioning,pool,kitchen,free par...\n",
       "11921    tv,wifi,kitchen,pets allowed,heating,smoke det...\n",
       "Name: amenities, Length: 11922, dtype: object"
      ]
     },
     "execution_count": 37,
     "metadata": {},
     "output_type": "execute_result"
    }
   ],
   "source": [
    "df_new.amenities"
   ]
  },
  {
   "cell_type": "markdown",
   "metadata": {},
   "source": [
    "##### ^^^^ Now it can be used for Word Cloud visualisation"
   ]
  },
  {
   "cell_type": "markdown",
   "metadata": {},
   "source": [
    "# < lets check another table we have called review >"
   ]
  },
  {
   "cell_type": "code",
   "execution_count": 38,
   "metadata": {},
   "outputs": [],
   "source": [
    "reviews=pd.read_csv(r'C:\\Users\\USER\\Desktop\\Airbnb\\reviews.csv')"
   ]
  },
  {
   "cell_type": "code",
   "execution_count": 39,
   "metadata": {},
   "outputs": [
    {
     "data": {
      "text/html": [
       "<div>\n",
       "<style scoped>\n",
       "    .dataframe tbody tr th:only-of-type {\n",
       "        vertical-align: middle;\n",
       "    }\n",
       "\n",
       "    .dataframe tbody tr th {\n",
       "        vertical-align: top;\n",
       "    }\n",
       "\n",
       "    .dataframe thead th {\n",
       "        text-align: right;\n",
       "    }\n",
       "</style>\n",
       "<table border=\"1\" class=\"dataframe\">\n",
       "  <thead>\n",
       "    <tr style=\"text-align: right;\">\n",
       "      <th></th>\n",
       "      <th>listing_id</th>\n",
       "      <th>id</th>\n",
       "      <th>date</th>\n",
       "      <th>reviewer_id</th>\n",
       "      <th>reviewer_name</th>\n",
       "      <th>comments</th>\n",
       "    </tr>\n",
       "  </thead>\n",
       "  <tbody>\n",
       "    <tr>\n",
       "      <th>0</th>\n",
       "      <td>6</td>\n",
       "      <td>8</td>\n",
       "      <td>2008-06-22</td>\n",
       "      <td>415</td>\n",
       "      <td>Terrence</td>\n",
       "      <td>Sara is an awesome hostess.  She was very cons...</td>\n",
       "    </tr>\n",
       "    <tr>\n",
       "      <th>1</th>\n",
       "      <td>6</td>\n",
       "      <td>4383</td>\n",
       "      <td>2009-06-22</td>\n",
       "      <td>3762</td>\n",
       "      <td>Christine</td>\n",
       "      <td>My stay at “Craftsmen” was wonderful!  Sara wa...</td>\n",
       "    </tr>\n",
       "    <tr>\n",
       "      <th>2</th>\n",
       "      <td>6</td>\n",
       "      <td>1722383</td>\n",
       "      <td>2012-07-16</td>\n",
       "      <td>1864778</td>\n",
       "      <td>Hieu</td>\n",
       "      <td>This was my first time using Airbnb and Sara m...</td>\n",
       "    </tr>\n",
       "    <tr>\n",
       "      <th>3</th>\n",
       "      <td>6</td>\n",
       "      <td>5595071</td>\n",
       "      <td>2013-07-07</td>\n",
       "      <td>117966</td>\n",
       "      <td>Daryna</td>\n",
       "      <td>Sara was a very pleasant host! Reservation was...</td>\n",
       "    </tr>\n",
       "    <tr>\n",
       "      <th>4</th>\n",
       "      <td>6</td>\n",
       "      <td>5631156</td>\n",
       "      <td>2013-07-08</td>\n",
       "      <td>6563815</td>\n",
       "      <td>Mathew</td>\n",
       "      <td>Sara was such an amazing hostess! My girlfrien...</td>\n",
       "    </tr>\n",
       "  </tbody>\n",
       "</table>\n",
       "</div>"
      ],
      "text/plain": [
       "   listing_id       id        date  reviewer_id reviewer_name  \\\n",
       "0           6        8  2008-06-22          415      Terrence   \n",
       "1           6     4383  2009-06-22         3762     Christine   \n",
       "2           6  1722383  2012-07-16      1864778          Hieu   \n",
       "3           6  5595071  2013-07-07       117966        Daryna   \n",
       "4           6  5631156  2013-07-08      6563815        Mathew   \n",
       "\n",
       "                                            comments  \n",
       "0  Sara is an awesome hostess.  She was very cons...  \n",
       "1  My stay at “Craftsmen” was wonderful!  Sara wa...  \n",
       "2  This was my first time using Airbnb and Sara m...  \n",
       "3  Sara was a very pleasant host! Reservation was...  \n",
       "4  Sara was such an amazing hostess! My girlfrien...  "
      ]
     },
     "execution_count": 39,
     "metadata": {},
     "output_type": "execute_result"
    }
   ],
   "source": [
    "reviews.head()"
   ]
  },
  {
   "cell_type": "code",
   "execution_count": 40,
   "metadata": {},
   "outputs": [
    {
     "name": "stdout",
     "output_type": "stream",
     "text": [
      "<class 'pandas.core.frame.DataFrame'>\n",
      "RangeIndex: 344404 entries, 0 to 344403\n",
      "Data columns (total 6 columns):\n",
      " #   Column         Non-Null Count   Dtype \n",
      "---  ------         --------------   ----- \n",
      " 0   listing_id     344404 non-null  int64 \n",
      " 1   id             344404 non-null  int64 \n",
      " 2   date           344404 non-null  object\n",
      " 3   reviewer_id    344404 non-null  int64 \n",
      " 4   reviewer_name  344403 non-null  object\n",
      " 5   comments       343987 non-null  object\n",
      "dtypes: int64(3), object(3)\n",
      "memory usage: 15.8+ MB\n"
     ]
    }
   ],
   "source": [
    "reviews.info()"
   ]
  },
  {
   "cell_type": "code",
   "execution_count": 41,
   "metadata": {},
   "outputs": [
    {
     "data": {
      "text/plain": [
       "listing_id         0\n",
       "id                 0\n",
       "date               0\n",
       "reviewer_id        0\n",
       "reviewer_name      1\n",
       "comments         417\n",
       "dtype: int64"
      ]
     },
     "execution_count": 41,
     "metadata": {},
     "output_type": "execute_result"
    }
   ],
   "source": [
    "reviews.isnull().sum()"
   ]
  },
  {
   "cell_type": "code",
   "execution_count": 42,
   "metadata": {},
   "outputs": [
    {
     "data": {
      "text/plain": [
       "(344404, 6)"
      ]
     },
     "execution_count": 42,
     "metadata": {},
     "output_type": "execute_result"
    }
   ],
   "source": [
    "reviews.shape"
   ]
  },
  {
   "cell_type": "code",
   "execution_count": 43,
   "metadata": {},
   "outputs": [],
   "source": [
    "#Lets choose the columns we want\n",
    "reviews=reviews[['listing_id','comments']].drop_duplicates('listing_id')"
   ]
  },
  {
   "cell_type": "code",
   "execution_count": 44,
   "metadata": {},
   "outputs": [
    {
     "data": {
      "text/html": [
       "<div>\n",
       "<style scoped>\n",
       "    .dataframe tbody tr th:only-of-type {\n",
       "        vertical-align: middle;\n",
       "    }\n",
       "\n",
       "    .dataframe tbody tr th {\n",
       "        vertical-align: top;\n",
       "    }\n",
       "\n",
       "    .dataframe thead th {\n",
       "        text-align: right;\n",
       "    }\n",
       "</style>\n",
       "<table border=\"1\" class=\"dataframe\">\n",
       "  <thead>\n",
       "    <tr style=\"text-align: right;\">\n",
       "      <th></th>\n",
       "      <th>listing_id</th>\n",
       "      <th>comments</th>\n",
       "    </tr>\n",
       "  </thead>\n",
       "  <tbody>\n",
       "    <tr>\n",
       "      <th>0</th>\n",
       "      <td>6</td>\n",
       "      <td>Sara is an awesome hostess.  She was very cons...</td>\n",
       "    </tr>\n",
       "    <tr>\n",
       "      <th>149</th>\n",
       "      <td>8095</td>\n",
       "      <td>Rocio and Marin were great hosts! \\r\\nThe gues...</td>\n",
       "    </tr>\n",
       "    <tr>\n",
       "      <th>327</th>\n",
       "      <td>39516</td>\n",
       "      <td>I don't know where to begin on how seriously h...</td>\n",
       "    </tr>\n",
       "    <tr>\n",
       "      <th>665</th>\n",
       "      <td>45429</td>\n",
       "      <td>Our stay with Melissa was wonderful. She was e...</td>\n",
       "    </tr>\n",
       "    <tr>\n",
       "      <th>671</th>\n",
       "      <td>54001</td>\n",
       "      <td>We enjoyed our trip to La Jolla. Marsha was ex...</td>\n",
       "    </tr>\n",
       "    <tr>\n",
       "      <th>...</th>\n",
       "      <td>...</td>\n",
       "      <td>...</td>\n",
       "    </tr>\n",
       "    <tr>\n",
       "      <th>344399</th>\n",
       "      <td>29881418</td>\n",
       "      <td>Vovi’s place is in an amazing location for vis...</td>\n",
       "    </tr>\n",
       "    <tr>\n",
       "      <th>344400</th>\n",
       "      <td>29891089</td>\n",
       "      <td>Ultra modern home but still had a homey, welco...</td>\n",
       "    </tr>\n",
       "    <tr>\n",
       "      <th>344401</th>\n",
       "      <td>29899812</td>\n",
       "      <td>She is really welcoming and kind, and I love h...</td>\n",
       "    </tr>\n",
       "    <tr>\n",
       "      <th>344402</th>\n",
       "      <td>29927527</td>\n",
       "      <td>The host canceled this reservation 5 days befo...</td>\n",
       "    </tr>\n",
       "    <tr>\n",
       "      <th>344403</th>\n",
       "      <td>29980961</td>\n",
       "      <td>The host canceled this reservation 7 days befo...</td>\n",
       "    </tr>\n",
       "  </tbody>\n",
       "</table>\n",
       "<p>9759 rows × 2 columns</p>\n",
       "</div>"
      ],
      "text/plain": [
       "        listing_id                                           comments\n",
       "0                6  Sara is an awesome hostess.  She was very cons...\n",
       "149           8095  Rocio and Marin were great hosts! \\r\\nThe gues...\n",
       "327          39516  I don't know where to begin on how seriously h...\n",
       "665          45429  Our stay with Melissa was wonderful. She was e...\n",
       "671          54001  We enjoyed our trip to La Jolla. Marsha was ex...\n",
       "...            ...                                                ...\n",
       "344399    29881418  Vovi’s place is in an amazing location for vis...\n",
       "344400    29891089  Ultra modern home but still had a homey, welco...\n",
       "344401    29899812  She is really welcoming and kind, and I love h...\n",
       "344402    29927527  The host canceled this reservation 5 days befo...\n",
       "344403    29980961  The host canceled this reservation 7 days befo...\n",
       "\n",
       "[9759 rows x 2 columns]"
      ]
     },
     "execution_count": 44,
     "metadata": {},
     "output_type": "execute_result"
    }
   ],
   "source": [
    "reviews"
   ]
  },
  {
   "cell_type": "code",
   "execution_count": 45,
   "metadata": {},
   "outputs": [
    {
     "data": {
      "text/plain": [
       "'Sara is an awesome hostess.  She was very considerate, making me feel right at home.  Her suggestions of local well-known and up-and-coming hotspots were also very helpful.  Definitely a positive experience.  Her dog is a sweetie too!'"
      ]
     },
     "execution_count": 45,
     "metadata": {},
     "output_type": "execute_result"
    }
   ],
   "source": [
    "reviews.comments[0]\n",
    "#Let clean this data for word cloud visualisation"
   ]
  },
  {
   "cell_type": "code",
   "execution_count": 46,
   "metadata": {},
   "outputs": [],
   "source": [
    "reviews.comments=[str(i) for i in reviews['comments']]"
   ]
  },
  {
   "cell_type": "code",
   "execution_count": 47,
   "metadata": {},
   "outputs": [],
   "source": [
    "reviews.comments=[i.lower() for i in reviews['comments']]"
   ]
  },
  {
   "cell_type": "code",
   "execution_count": 48,
   "metadata": {},
   "outputs": [
    {
     "data": {
      "text/plain": [
       "'sara is an awesome hostess.  she was very considerate, making me feel right at home.  her suggestions of local well-known and up-and-coming hotspots were also very helpful.  definitely a positive experience.  her dog is a sweetie too!'"
      ]
     },
     "execution_count": 48,
     "metadata": {},
     "output_type": "execute_result"
    }
   ],
   "source": [
    "reviews.comments[0]"
   ]
  },
  {
   "cell_type": "code",
   "execution_count": 49,
   "metadata": {},
   "outputs": [],
   "source": [
    "#let remove the puncations\n",
    "punc = '''!()-[]{};:'\"\\,<>./?@#$%^&*_~'''"
   ]
  },
  {
   "cell_type": "code",
   "execution_count": 50,
   "metadata": {},
   "outputs": [],
   "source": [
    "def dataformater(comment):\n",
    "    comm_list=[]\n",
    "    transformed_comm=''\n",
    "    \n",
    "    for char in comment:\n",
    "        if char not in punc:\n",
    "            comm_list.append(char)\n",
    "            \n",
    "    for char1 in comm_list:\n",
    "        transformed_comm=transformed_comm+char1\n",
    "    return transformed_comm"
   ]
  },
  {
   "cell_type": "code",
   "execution_count": 51,
   "metadata": {},
   "outputs": [],
   "source": [
    "reviews['comments']=reviews['comments'].apply(dataformater)"
   ]
  },
  {
   "cell_type": "code",
   "execution_count": 52,
   "metadata": {},
   "outputs": [
    {
     "data": {
      "text/plain": [
       "'sara is an awesome hostess  she was very considerate making me feel right at home  her suggestions of local wellknown and upandcoming hotspots were also very helpful  definitely a positive experience  her dog is a sweetie too'"
      ]
     },
     "execution_count": 52,
     "metadata": {},
     "output_type": "execute_result"
    }
   ],
   "source": [
    "reviews['comments'][0]"
   ]
  },
  {
   "cell_type": "code",
   "execution_count": 53,
   "metadata": {},
   "outputs": [
    {
     "data": {
      "text/html": [
       "<div>\n",
       "<style scoped>\n",
       "    .dataframe tbody tr th:only-of-type {\n",
       "        vertical-align: middle;\n",
       "    }\n",
       "\n",
       "    .dataframe tbody tr th {\n",
       "        vertical-align: top;\n",
       "    }\n",
       "\n",
       "    .dataframe thead th {\n",
       "        text-align: right;\n",
       "    }\n",
       "</style>\n",
       "<table border=\"1\" class=\"dataframe\">\n",
       "  <thead>\n",
       "    <tr style=\"text-align: right;\">\n",
       "      <th></th>\n",
       "      <th>listing_id</th>\n",
       "      <th>comments</th>\n",
       "    </tr>\n",
       "  </thead>\n",
       "  <tbody>\n",
       "    <tr>\n",
       "      <th>0</th>\n",
       "      <td>6</td>\n",
       "      <td>sara is an awesome hostess  she was very consi...</td>\n",
       "    </tr>\n",
       "    <tr>\n",
       "      <th>149</th>\n",
       "      <td>8095</td>\n",
       "      <td>rocio and marin were great hosts \\r\\nthe guest...</td>\n",
       "    </tr>\n",
       "    <tr>\n",
       "      <th>327</th>\n",
       "      <td>39516</td>\n",
       "      <td>i dont know where to begin on how seriously hu...</td>\n",
       "    </tr>\n",
       "    <tr>\n",
       "      <th>665</th>\n",
       "      <td>45429</td>\n",
       "      <td>our stay with melissa was wonderful she was ex...</td>\n",
       "    </tr>\n",
       "    <tr>\n",
       "      <th>671</th>\n",
       "      <td>54001</td>\n",
       "      <td>we enjoyed our trip to la jolla marsha was ext...</td>\n",
       "    </tr>\n",
       "    <tr>\n",
       "      <th>...</th>\n",
       "      <td>...</td>\n",
       "      <td>...</td>\n",
       "    </tr>\n",
       "    <tr>\n",
       "      <th>344399</th>\n",
       "      <td>29881418</td>\n",
       "      <td>vovi’s place is in an amazing location for vis...</td>\n",
       "    </tr>\n",
       "    <tr>\n",
       "      <th>344400</th>\n",
       "      <td>29891089</td>\n",
       "      <td>ultra modern home but still had a homey welcom...</td>\n",
       "    </tr>\n",
       "    <tr>\n",
       "      <th>344401</th>\n",
       "      <td>29899812</td>\n",
       "      <td>she is really welcoming and kind and i love he...</td>\n",
       "    </tr>\n",
       "    <tr>\n",
       "      <th>344402</th>\n",
       "      <td>29927527</td>\n",
       "      <td>the host canceled this reservation 5 days befo...</td>\n",
       "    </tr>\n",
       "    <tr>\n",
       "      <th>344403</th>\n",
       "      <td>29980961</td>\n",
       "      <td>the host canceled this reservation 7 days befo...</td>\n",
       "    </tr>\n",
       "  </tbody>\n",
       "</table>\n",
       "<p>9759 rows × 2 columns</p>\n",
       "</div>"
      ],
      "text/plain": [
       "        listing_id                                           comments\n",
       "0                6  sara is an awesome hostess  she was very consi...\n",
       "149           8095  rocio and marin were great hosts \\r\\nthe guest...\n",
       "327          39516  i dont know where to begin on how seriously hu...\n",
       "665          45429  our stay with melissa was wonderful she was ex...\n",
       "671          54001  we enjoyed our trip to la jolla marsha was ext...\n",
       "...            ...                                                ...\n",
       "344399    29881418  vovi’s place is in an amazing location for vis...\n",
       "344400    29891089  ultra modern home but still had a homey welcom...\n",
       "344401    29899812  she is really welcoming and kind and i love he...\n",
       "344402    29927527  the host canceled this reservation 5 days befo...\n",
       "344403    29980961  the host canceled this reservation 7 days befo...\n",
       "\n",
       "[9759 rows x 2 columns]"
      ]
     },
     "execution_count": 53,
     "metadata": {},
     "output_type": "execute_result"
    }
   ],
   "source": [
    "reviews"
   ]
  },
  {
   "cell_type": "code",
   "execution_count": 54,
   "metadata": {},
   "outputs": [],
   "source": [
    "#lets merge two tables"
   ]
  },
  {
   "cell_type": "code",
   "execution_count": 55,
   "metadata": {},
   "outputs": [],
   "source": [
    "df_new.rename(columns={'id':'listing_id'},inplace=True)"
   ]
  },
  {
   "cell_type": "code",
   "execution_count": 56,
   "metadata": {},
   "outputs": [
    {
     "data": {
      "text/plain": [
       "Index(['listing_id', 'name', 'host_id', 'host_name', 'host_is_superhost',\n",
       "       'neighbourhood_cleansed', 'city', 'state', 'country', 'latitude',\n",
       "       'longitude', 'property_type', 'room_type', 'accommodates', 'bathrooms',\n",
       "       'bedrooms', 'beds', 'amenities', 'price', 'weekly_price',\n",
       "       'monthly_price', 'maximum_nights', 'minimum_nights', 'cleaning_fee',\n",
       "       'number_of_reviews', 'reviews_per_month'],\n",
       "      dtype='object')"
      ]
     },
     "execution_count": 56,
     "metadata": {},
     "output_type": "execute_result"
    }
   ],
   "source": [
    "df_new.columns"
   ]
  },
  {
   "cell_type": "code",
   "execution_count": 57,
   "metadata": {},
   "outputs": [],
   "source": [
    "airbnb=pd.merge(df_new,reviews,on='listing_id',how='left')"
   ]
  },
  {
   "cell_type": "code",
   "execution_count": 58,
   "metadata": {},
   "outputs": [
    {
     "data": {
      "text/html": [
       "<div>\n",
       "<style scoped>\n",
       "    .dataframe tbody tr th:only-of-type {\n",
       "        vertical-align: middle;\n",
       "    }\n",
       "\n",
       "    .dataframe tbody tr th {\n",
       "        vertical-align: top;\n",
       "    }\n",
       "\n",
       "    .dataframe thead th {\n",
       "        text-align: right;\n",
       "    }\n",
       "</style>\n",
       "<table border=\"1\" class=\"dataframe\">\n",
       "  <thead>\n",
       "    <tr style=\"text-align: right;\">\n",
       "      <th></th>\n",
       "      <th>listing_id</th>\n",
       "      <th>name</th>\n",
       "      <th>host_id</th>\n",
       "      <th>host_name</th>\n",
       "      <th>host_is_superhost</th>\n",
       "      <th>neighbourhood_cleansed</th>\n",
       "      <th>city</th>\n",
       "      <th>state</th>\n",
       "      <th>country</th>\n",
       "      <th>latitude</th>\n",
       "      <th>...</th>\n",
       "      <th>amenities</th>\n",
       "      <th>price</th>\n",
       "      <th>weekly_price</th>\n",
       "      <th>monthly_price</th>\n",
       "      <th>maximum_nights</th>\n",
       "      <th>minimum_nights</th>\n",
       "      <th>cleaning_fee</th>\n",
       "      <th>number_of_reviews</th>\n",
       "      <th>reviews_per_month</th>\n",
       "      <th>comments</th>\n",
       "    </tr>\n",
       "  </thead>\n",
       "  <tbody>\n",
       "    <tr>\n",
       "      <th>0</th>\n",
       "      <td>6</td>\n",
       "      <td>Large Craftsmen w/ yard ~ Perfect for families</td>\n",
       "      <td>29</td>\n",
       "      <td>Sara</td>\n",
       "      <td>t</td>\n",
       "      <td>North Hills</td>\n",
       "      <td>San Diego</td>\n",
       "      <td>CA</td>\n",
       "      <td>United States</td>\n",
       "      <td>32.753993</td>\n",
       "      <td>...</td>\n",
       "      <td>tv,internet,wifi,air conditioning,kitchen,free...</td>\n",
       "      <td>295</td>\n",
       "      <td>0</td>\n",
       "      <td>0</td>\n",
       "      <td>30</td>\n",
       "      <td>2</td>\n",
       "      <td>85</td>\n",
       "      <td>149</td>\n",
       "      <td>1.18</td>\n",
       "      <td>sara is an awesome hostess  she was very consi...</td>\n",
       "    </tr>\n",
       "    <tr>\n",
       "      <th>1</th>\n",
       "      <td>5570</td>\n",
       "      <td>Ocean front condo on the sand</td>\n",
       "      <td>8435</td>\n",
       "      <td>Jef Karchin'S MISSIONBEACHRETREAT</td>\n",
       "      <td>f</td>\n",
       "      <td>Mission Bay</td>\n",
       "      <td>San Diego</td>\n",
       "      <td>CA</td>\n",
       "      <td>United States</td>\n",
       "      <td>32.784304</td>\n",
       "      <td>...</td>\n",
       "      <td>tv,cable tv,internet,wifi,kitchen,free parking...</td>\n",
       "      <td>2050</td>\n",
       "      <td>0</td>\n",
       "      <td>0</td>\n",
       "      <td>365</td>\n",
       "      <td>3</td>\n",
       "      <td>150</td>\n",
       "      <td>0</td>\n",
       "      <td>0.00</td>\n",
       "      <td>NaN</td>\n",
       "    </tr>\n",
       "    <tr>\n",
       "      <th>2</th>\n",
       "      <td>8095</td>\n",
       "      <td>Sunset Cliffs Studio</td>\n",
       "      <td>270</td>\n",
       "      <td>Marin</td>\n",
       "      <td>f</td>\n",
       "      <td>Ocean Beach</td>\n",
       "      <td>San Diego</td>\n",
       "      <td>CA</td>\n",
       "      <td>United States</td>\n",
       "      <td>32.735170</td>\n",
       "      <td>...</td>\n",
       "      <td>internet,wifi,kitchen,free parking on premises...</td>\n",
       "      <td>84</td>\n",
       "      <td>0</td>\n",
       "      <td>0</td>\n",
       "      <td>14</td>\n",
       "      <td>2</td>\n",
       "      <td>40</td>\n",
       "      <td>178</td>\n",
       "      <td>1.56</td>\n",
       "      <td>rocio and marin were great hosts \\r\\nthe guest...</td>\n",
       "    </tr>\n",
       "    <tr>\n",
       "      <th>3</th>\n",
       "      <td>39516</td>\n",
       "      <td>Art Studio Retreat/Rustic Cabin</td>\n",
       "      <td>169649</td>\n",
       "      <td>Chris  And Jean</td>\n",
       "      <td>t</td>\n",
       "      <td>North Hills</td>\n",
       "      <td>San Diego</td>\n",
       "      <td>CA</td>\n",
       "      <td>United States</td>\n",
       "      <td>32.731884</td>\n",
       "      <td>...</td>\n",
       "      <td>internet,wifi,pool,kitchen,pets live on this p...</td>\n",
       "      <td>69</td>\n",
       "      <td>450</td>\n",
       "      <td>0</td>\n",
       "      <td>7</td>\n",
       "      <td>3</td>\n",
       "      <td>25</td>\n",
       "      <td>338</td>\n",
       "      <td>3.33</td>\n",
       "      <td>i dont know where to begin on how seriously hu...</td>\n",
       "    </tr>\n",
       "    <tr>\n",
       "      <th>4</th>\n",
       "      <td>45429</td>\n",
       "      <td>OB cottage SD--view on waterway</td>\n",
       "      <td>197919</td>\n",
       "      <td>Melissa</td>\n",
       "      <td>f</td>\n",
       "      <td>Loma Portal</td>\n",
       "      <td>San Diego</td>\n",
       "      <td>CA</td>\n",
       "      <td>United States</td>\n",
       "      <td>32.748768</td>\n",
       "      <td>...</td>\n",
       "      <td>tv,internet,wifi,kitchen,free parking on premi...</td>\n",
       "      <td>160</td>\n",
       "      <td>1060</td>\n",
       "      <td>0</td>\n",
       "      <td>5</td>\n",
       "      <td>2</td>\n",
       "      <td>35</td>\n",
       "      <td>6</td>\n",
       "      <td>0.06</td>\n",
       "      <td>our stay with melissa was wonderful she was ex...</td>\n",
       "    </tr>\n",
       "    <tr>\n",
       "      <th>...</th>\n",
       "      <td>...</td>\n",
       "      <td>...</td>\n",
       "      <td>...</td>\n",
       "      <td>...</td>\n",
       "      <td>...</td>\n",
       "      <td>...</td>\n",
       "      <td>...</td>\n",
       "      <td>...</td>\n",
       "      <td>...</td>\n",
       "      <td>...</td>\n",
       "      <td>...</td>\n",
       "      <td>...</td>\n",
       "      <td>...</td>\n",
       "      <td>...</td>\n",
       "      <td>...</td>\n",
       "      <td>...</td>\n",
       "      <td>...</td>\n",
       "      <td>...</td>\n",
       "      <td>...</td>\n",
       "      <td>...</td>\n",
       "      <td>...</td>\n",
       "    </tr>\n",
       "    <tr>\n",
       "      <th>11917</th>\n",
       "      <td>30046180</td>\n",
       "      <td>Fully Furnished Private Room with Private Bath</td>\n",
       "      <td>97914402</td>\n",
       "      <td>Julie</td>\n",
       "      <td>f</td>\n",
       "      <td>University City</td>\n",
       "      <td>San Diego</td>\n",
       "      <td>CA</td>\n",
       "      <td>United States</td>\n",
       "      <td>32.857103</td>\n",
       "      <td>...</td>\n",
       "      <td>tv,cable tv,internet,wifi,air conditioning,poo...</td>\n",
       "      <td>70</td>\n",
       "      <td>0</td>\n",
       "      <td>0</td>\n",
       "      <td>365</td>\n",
       "      <td>21</td>\n",
       "      <td>0</td>\n",
       "      <td>0</td>\n",
       "      <td>0.00</td>\n",
       "      <td>NaN</td>\n",
       "    </tr>\n",
       "    <tr>\n",
       "      <th>11918</th>\n",
       "      <td>30047177</td>\n",
       "      <td>Your home away from home for Thanksgiving!</td>\n",
       "      <td>33820940</td>\n",
       "      <td>Iva</td>\n",
       "      <td>f</td>\n",
       "      <td>Midtown</td>\n",
       "      <td>San Diego</td>\n",
       "      <td>CA</td>\n",
       "      <td>United States</td>\n",
       "      <td>32.739573</td>\n",
       "      <td>...</td>\n",
       "      <td>tv,wifi,air conditioning,kitchen,free parking ...</td>\n",
       "      <td>150</td>\n",
       "      <td>0</td>\n",
       "      <td>0</td>\n",
       "      <td>1125</td>\n",
       "      <td>1</td>\n",
       "      <td>50</td>\n",
       "      <td>0</td>\n",
       "      <td>0.00</td>\n",
       "      <td>NaN</td>\n",
       "    </tr>\n",
       "    <tr>\n",
       "      <th>11919</th>\n",
       "      <td>30048505</td>\n",
       "      <td>Clean Bright and Simple</td>\n",
       "      <td>200239871</td>\n",
       "      <td>Omar</td>\n",
       "      <td>f</td>\n",
       "      <td>East Lake</td>\n",
       "      <td>Chula Vista</td>\n",
       "      <td>CA</td>\n",
       "      <td>United States</td>\n",
       "      <td>32.663647</td>\n",
       "      <td>...</td>\n",
       "      <td>tv,wifi,air conditioning,pool,kitchen,free par...</td>\n",
       "      <td>32</td>\n",
       "      <td>0</td>\n",
       "      <td>0</td>\n",
       "      <td>30</td>\n",
       "      <td>1</td>\n",
       "      <td>75</td>\n",
       "      <td>0</td>\n",
       "      <td>0.00</td>\n",
       "      <td>NaN</td>\n",
       "    </tr>\n",
       "    <tr>\n",
       "      <th>11920</th>\n",
       "      <td>30048809</td>\n",
       "      <td>Cozy pillow top air mattress</td>\n",
       "      <td>200239871</td>\n",
       "      <td>Omar</td>\n",
       "      <td>f</td>\n",
       "      <td>East Lake</td>\n",
       "      <td>Chula Vista</td>\n",
       "      <td>CA</td>\n",
       "      <td>United States</td>\n",
       "      <td>32.663964</td>\n",
       "      <td>...</td>\n",
       "      <td>tv,wifi,air conditioning,pool,kitchen,free par...</td>\n",
       "      <td>32</td>\n",
       "      <td>0</td>\n",
       "      <td>0</td>\n",
       "      <td>30</td>\n",
       "      <td>1</td>\n",
       "      <td>65</td>\n",
       "      <td>0</td>\n",
       "      <td>0.00</td>\n",
       "      <td>NaN</td>\n",
       "    </tr>\n",
       "    <tr>\n",
       "      <th>11921</th>\n",
       "      <td>30049974</td>\n",
       "      <td>Cozy bedroom</td>\n",
       "      <td>204037526</td>\n",
       "      <td>Gleicy</td>\n",
       "      <td>f</td>\n",
       "      <td>City Heights West</td>\n",
       "      <td>San Diego</td>\n",
       "      <td>CA</td>\n",
       "      <td>United States</td>\n",
       "      <td>32.750528</td>\n",
       "      <td>...</td>\n",
       "      <td>tv,wifi,kitchen,pets allowed,heating,smoke det...</td>\n",
       "      <td>55</td>\n",
       "      <td>0</td>\n",
       "      <td>0</td>\n",
       "      <td>1125</td>\n",
       "      <td>4</td>\n",
       "      <td>0</td>\n",
       "      <td>0</td>\n",
       "      <td>0.00</td>\n",
       "      <td>NaN</td>\n",
       "    </tr>\n",
       "  </tbody>\n",
       "</table>\n",
       "<p>11922 rows × 27 columns</p>\n",
       "</div>"
      ],
      "text/plain": [
       "       listing_id                                            name    host_id  \\\n",
       "0               6  Large Craftsmen w/ yard ~ Perfect for families         29   \n",
       "1            5570                   Ocean front condo on the sand       8435   \n",
       "2            8095                            Sunset Cliffs Studio        270   \n",
       "3           39516                 Art Studio Retreat/Rustic Cabin     169649   \n",
       "4           45429                 OB cottage SD--view on waterway     197919   \n",
       "...           ...                                             ...        ...   \n",
       "11917    30046180  Fully Furnished Private Room with Private Bath   97914402   \n",
       "11918    30047177      Your home away from home for Thanksgiving!   33820940   \n",
       "11919    30048505                         Clean Bright and Simple  200239871   \n",
       "11920    30048809                    Cozy pillow top air mattress  200239871   \n",
       "11921    30049974                                    Cozy bedroom  204037526   \n",
       "\n",
       "                               host_name host_is_superhost  \\\n",
       "0                                   Sara                 t   \n",
       "1      Jef Karchin'S MISSIONBEACHRETREAT                 f   \n",
       "2                                  Marin                 f   \n",
       "3                        Chris  And Jean                 t   \n",
       "4                                Melissa                 f   \n",
       "...                                  ...               ...   \n",
       "11917                              Julie                 f   \n",
       "11918                                Iva                 f   \n",
       "11919                               Omar                 f   \n",
       "11920                               Omar                 f   \n",
       "11921                             Gleicy                 f   \n",
       "\n",
       "      neighbourhood_cleansed         city state        country   latitude  \\\n",
       "0                North Hills    San Diego    CA  United States  32.753993   \n",
       "1                Mission Bay    San Diego    CA  United States  32.784304   \n",
       "2                Ocean Beach    San Diego    CA  United States  32.735170   \n",
       "3                North Hills    San Diego    CA  United States  32.731884   \n",
       "4                Loma Portal    San Diego    CA  United States  32.748768   \n",
       "...                      ...          ...   ...            ...        ...   \n",
       "11917        University City    San Diego    CA  United States  32.857103   \n",
       "11918                Midtown    San Diego    CA  United States  32.739573   \n",
       "11919              East Lake  Chula Vista    CA  United States  32.663647   \n",
       "11920              East Lake  Chula Vista    CA  United States  32.663964   \n",
       "11921      City Heights West    San Diego    CA  United States  32.750528   \n",
       "\n",
       "       ...                                          amenities price  \\\n",
       "0      ...  tv,internet,wifi,air conditioning,kitchen,free...   295   \n",
       "1      ...  tv,cable tv,internet,wifi,kitchen,free parking...  2050   \n",
       "2      ...  internet,wifi,kitchen,free parking on premises...    84   \n",
       "3      ...  internet,wifi,pool,kitchen,pets live on this p...    69   \n",
       "4      ...  tv,internet,wifi,kitchen,free parking on premi...   160   \n",
       "...    ...                                                ...   ...   \n",
       "11917  ...  tv,cable tv,internet,wifi,air conditioning,poo...    70   \n",
       "11918  ...  tv,wifi,air conditioning,kitchen,free parking ...   150   \n",
       "11919  ...  tv,wifi,air conditioning,pool,kitchen,free par...    32   \n",
       "11920  ...  tv,wifi,air conditioning,pool,kitchen,free par...    32   \n",
       "11921  ...  tv,wifi,kitchen,pets allowed,heating,smoke det...    55   \n",
       "\n",
       "      weekly_price  monthly_price  maximum_nights  minimum_nights  \\\n",
       "0                0              0              30               2   \n",
       "1                0              0             365               3   \n",
       "2                0              0              14               2   \n",
       "3              450              0               7               3   \n",
       "4             1060              0               5               2   \n",
       "...            ...            ...             ...             ...   \n",
       "11917            0              0             365              21   \n",
       "11918            0              0            1125               1   \n",
       "11919            0              0              30               1   \n",
       "11920            0              0              30               1   \n",
       "11921            0              0            1125               4   \n",
       "\n",
       "       cleaning_fee number_of_reviews  reviews_per_month  \\\n",
       "0                85               149               1.18   \n",
       "1               150                 0               0.00   \n",
       "2                40               178               1.56   \n",
       "3                25               338               3.33   \n",
       "4                35                 6               0.06   \n",
       "...             ...               ...                ...   \n",
       "11917             0                 0               0.00   \n",
       "11918            50                 0               0.00   \n",
       "11919            75                 0               0.00   \n",
       "11920            65                 0               0.00   \n",
       "11921             0                 0               0.00   \n",
       "\n",
       "                                                comments  \n",
       "0      sara is an awesome hostess  she was very consi...  \n",
       "1                                                    NaN  \n",
       "2      rocio and marin were great hosts \\r\\nthe guest...  \n",
       "3      i dont know where to begin on how seriously hu...  \n",
       "4      our stay with melissa was wonderful she was ex...  \n",
       "...                                                  ...  \n",
       "11917                                                NaN  \n",
       "11918                                                NaN  \n",
       "11919                                                NaN  \n",
       "11920                                                NaN  \n",
       "11921                                                NaN  \n",
       "\n",
       "[11922 rows x 27 columns]"
      ]
     },
     "execution_count": 58,
     "metadata": {},
     "output_type": "execute_result"
    }
   ],
   "source": [
    "airbnb"
   ]
  },
  {
   "cell_type": "markdown",
   "metadata": {},
   "source": [
    "# Everything looks good now lets export the file for the analysis part"
   ]
  },
  {
   "cell_type": "code",
   "execution_count": 59,
   "metadata": {},
   "outputs": [],
   "source": [
    "airbnb.to_csv(\"airbnb_cleaned.csv\", index=None)"
   ]
  },
  {
   "cell_type": "code",
   "execution_count": null,
   "metadata": {},
   "outputs": [],
   "source": []
  },
  {
   "cell_type": "code",
   "execution_count": null,
   "metadata": {},
   "outputs": [],
   "source": []
  },
  {
   "cell_type": "code",
   "execution_count": null,
   "metadata": {},
   "outputs": [],
   "source": []
  },
  {
   "cell_type": "code",
   "execution_count": null,
   "metadata": {},
   "outputs": [],
   "source": []
  }
 ],
 "metadata": {
  "kernelspec": {
   "display_name": "Python 3",
   "language": "python",
   "name": "python3"
  },
  "language_info": {
   "codemirror_mode": {
    "name": "ipython",
    "version": 3
   },
   "file_extension": ".py",
   "mimetype": "text/x-python",
   "name": "python",
   "nbconvert_exporter": "python",
   "pygments_lexer": "ipython3",
   "version": "3.7.4"
  }
 },
 "nbformat": 4,
 "nbformat_minor": 2
}
